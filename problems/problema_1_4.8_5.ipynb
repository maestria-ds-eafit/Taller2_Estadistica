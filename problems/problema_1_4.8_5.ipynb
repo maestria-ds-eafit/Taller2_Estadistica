{
 "cells": [
  {
   "cell_type": "markdown",
   "metadata": {},
   "source": [
    "# Problema 1 sección 4.8 ejercicio 5"
   ]
  },
  {
   "cell_type": "markdown",
   "metadata": {},
   "source": [
    "We now examine the differences between LDA and QDA."
   ]
  },
  {
   "cell_type": "markdown",
   "metadata": {},
   "source": [
    "(a) If the Bayes decision boundary is linear, do we expect LDA or\n",
    "QDA to perform better on the training set? On the test set?"
   ]
  },
  {
   "cell_type": "markdown",
   "metadata": {},
   "source": [
    "Si la frontera de decisión de Bayes es lineal, en el conjunto de entrenamiento el QDA será mejor porque es más flexible y se ajusta mejor a los datos. En el conjunto de prueba, el LDA será mejor porque el QDA se sobreajusta a los datos de entrenamiento mientras que el LDA sería mejor ya que la frontera de decisión de Bayes es lineal."
   ]
  },
  {
   "cell_type": "markdown",
   "metadata": {},
   "source": []
  }
 ],
 "metadata": {
  "language_info": {
   "name": "python"
  }
 },
 "nbformat": 4,
 "nbformat_minor": 2
}
