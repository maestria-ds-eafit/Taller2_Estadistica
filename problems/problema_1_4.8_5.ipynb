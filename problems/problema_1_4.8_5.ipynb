{
 "cells": [
  {
   "cell_type": "markdown",
   "metadata": {},
   "source": [
    "# Problema 1 sección 4.8 ejercicio 5"
   ]
  },
  {
   "cell_type": "markdown",
   "metadata": {},
   "source": [
    "We now examine the differences between LDA and QDA."
   ]
  },
  {
   "cell_type": "markdown",
   "metadata": {},
   "source": [
    "(a) If the Bayes decision boundary is linear, do we expect LDA or\n",
    "QDA to perform better on the training set? On the test set?"
   ]
  },
  {
   "cell_type": "markdown",
   "metadata": {},
   "source": [
    "Si la frontera de decisión de Bayes es lineal, en el conjunto de entrenamiento el QDA será mejor porque es más flexible y se ajusta mejor a los datos. En el conjunto de prueba, el LDA será mejor porque el QDA se sobreajusta a los datos de entrenamiento mientras que el LDA sería mejor ya que la frontera de decisión de Bayes es lineal."
   ]
  },
  {
   "cell_type": "markdown",
   "metadata": {},
   "source": [
    "(b) If the Bayes decision boundary is non-linear, do we expect LDA\n",
    "or QDA to perform better on the training set? On the test set?"
   ]
  },
  {
   "cell_type": "markdown",
   "metadata": {},
   "source": [
    "Si la frontera de decisión de Bayes es no lineal, en el conjunto de entrenamiento el QDA será mejor porque es más flexible y se ajusta mejor a los datos. En el conjunto de prueba, si la frontera de decisión puede ser aproximada mejor por el QDA y si hay la suficiente data de entrenamiento para estimar los parámetros sin que haya sobreajuste, entonces también el QDA será mejor. Sin embargo, si la frontera de decisión es muy compleja o no hay suficiente data de entrenamiento, el QDA puede sobreajustarse a la data de entrenamiento y no generalizar bien, haciendo que el LDA sea mejor por su simplicidad."
   ]
  },
  {
   "cell_type": "markdown",
   "metadata": {},
   "source": [
    "(c) In general, as the sample size n increases, do we expect the test\n",
    "prediction accuracy of QDA relative to LDA to improve, decline,\n",
    "or be unchanged? Why?"
   ]
  },
  {
   "cell_type": "markdown",
   "metadata": {},
   "source": [
    "Cuando `n` aumenta, esperamos que el accuracy del QDA sea mejor por las siguientes razones:\n",
    "* Debido a que el QDA no asume una matriz de covarianza igual para todas las clases, el QDA estima más parámetros que el LDA. Con un `n` pequeño, la estimación de estos parámetros puede ser muy pobre, haciendo que haya sobreajuste y una mala generalización en el conjunto de prueba. Cuando `n` aumenta, los parámetros son más confiables y el QDA puede generalizar mejor capturando la verdadera frontera de decisión.\n",
    "* El QDA es un modelo más complejo, y con poca data, hay riesgo de que haya sobreajuste. Cuando `n` aumenta, el riesgo de sobreajuste disminuye y el QDA puede tomar ventaja de que utiliza más información para hacer predicciones más precisas.\n",
    "* Si la frontera de decisión es no lineal, QDA es mejor que LDA. Cuando `n` aumenta, el QDA tendrá más datos para aprender la frontera de decisión no lineal mientras que LDA siempre será una frontera lineal independientemente de la cantidad de datos."
   ]
  },
  {
   "cell_type": "markdown",
   "metadata": {},
   "source": [
    "(d) True or False: Even if the Bayes decision boundary for a given\n",
    "problem is linear, we will probably achieve a superior test error rate using QDA rather than LDA because QDA is flexible\n",
    "enough to model a linear decision boundary. Justify your answer."
   ]
  },
  {
   "cell_type": "markdown",
   "metadata": {},
   "source": [
    "Esto es falso por las siguientes razones:\n",
    "* Si la frontera de decisión es lineal, la complejidad del QDA es innecesaria y puede conllevar a sobreajuste, especialmente cuando el número de datos es bajo. Esto significa que el modelo capturará ruido de la data de entrenamiento que no generalizará bien a la data de prueba.\n",
    "* La asunción de LDA de matrices de covarianzas iguales significa que tienen más sesgo pero menos varianza con respecto a QDA. Cuando la frontera realmente es lineal, el alto sesgo del LDA no es un problema porque se alinea a la verdadera estructura de la data. Por otra parte, el QDA tiene menor sesgo y mayor varianza, lo que puede ser malo para la data de prueba."
   ]
  }
 ],
 "metadata": {
  "language_info": {
   "name": "python"
  }
 },
 "nbformat": 4,
 "nbformat_minor": 2
}
