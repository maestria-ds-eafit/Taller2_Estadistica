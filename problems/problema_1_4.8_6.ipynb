{
 "cells": [
  {
   "cell_type": "markdown",
   "metadata": {},
   "source": [
    "# Problema 1 sección 4.8 ejercicio 6\n"
   ]
  },
  {
   "cell_type": "code",
   "execution_count": 2,
   "metadata": {},
   "outputs": [],
   "source": [
    "import math\n",
    "import sympy as sp"
   ]
  },
  {
   "cell_type": "markdown",
   "metadata": {},
   "source": [
    "Suppose we collect data for a group of students statistics in a class with variables $X_1 = \\text{hours}$ studied, $X_2 = \\text{undergrad GPA}$, and Y = receive an A. We fit a logistic regression and produce estimated coefficient, $\\hat{\\beta_0}$ = −6, $\\hat{\\beta_1} = 0.05$, $\\hat{\\beta_2} = 1$.\n",
    "\n",
    "(a) Estimate the probability that a student who studies for 40 h and has an undergrad GPA of 3.5 gets an A in the class.\n"
   ]
  },
  {
   "cell_type": "code",
   "execution_count": 7,
   "metadata": {},
   "outputs": [
    {
     "data": {
      "text/plain": [
       "0.3775406687981454"
      ]
     },
     "execution_count": 7,
     "metadata": {},
     "output_type": "execute_result"
    }
   ],
   "source": [
    "b0 = -6\n",
    "b1 = 0.05\n",
    "b2 = 1\n",
    "x1 = 40\n",
    "x2 = 3.5\n",
    "xb = (b0 + x1 * b1 + x2 * b2) * -1\n",
    "e = math.exp(xb)\n",
    "\n",
    "y = 1 / (1 + e)\n",
    "y"
   ]
  },
  {
   "cell_type": "markdown",
   "metadata": {},
   "source": [
    "Podemos concluir que la probabilidad que el estudiante que estudió 40 horas teniendo un GPA antes de graduarse de 3.5 obtenga una A es del 37.754%\n"
   ]
  },
  {
   "cell_type": "markdown",
   "metadata": {},
   "source": [
    "(b) How many hours would the student in part (a) need to study to have a 50% chance of getting an A in the class?\n"
   ]
  },
  {
   "cell_type": "code",
   "execution_count": 9,
   "metadata": {},
   "outputs": [
    {
     "name": "stdout",
     "output_type": "stream",
     "text": [
      "El valor para x1 donde y = 0.5 es: [50.0000000000000]\n"
     ]
    }
   ],
   "source": [
    "x1 = sp.symbols(\"x1\")\n",
    "y = 1 / (1 + sp.exp(-6 + 0.05 * x1 + 3.5))\n",
    "\n",
    "eq = sp.Eq(y, 0.5)\n",
    "\n",
    "solution = sp.solve(eq, x1)\n",
    "\n",
    "print(\"El valor para x1 donde y = 0.5 es:\", solution)"
   ]
  },
  {
   "cell_type": "markdown",
   "metadata": {},
   "source": [
    "Prueba del resultado\n"
   ]
  },
  {
   "cell_type": "code",
   "execution_count": 10,
   "metadata": {},
   "outputs": [
    {
     "data": {
      "text/plain": [
       "0.5"
      ]
     },
     "execution_count": 10,
     "metadata": {},
     "output_type": "execute_result"
    }
   ],
   "source": [
    "b0 = -6\n",
    "b1 = 0.05\n",
    "b2 = 1\n",
    "x1 = 50\n",
    "x2 = 3.5\n",
    "xb = (b0 + x1 * b1 + x2 * b2) * -1\n",
    "e = math.exp(xb)\n",
    "\n",
    "y = 1 / (1 + e)\n",
    "y"
   ]
  }
 ],
 "metadata": {
  "kernelspec": {
   "display_name": "Taller2_Estadistica-VjdUl4YZ",
   "language": "python",
   "name": "python3"
  },
  "language_info": {
   "codemirror_mode": {
    "name": "ipython",
    "version": 3
   },
   "file_extension": ".py",
   "mimetype": "text/x-python",
   "name": "python",
   "nbconvert_exporter": "python",
   "pygments_lexer": "ipython3",
   "version": "3.11.5"
  }
 },
 "nbformat": 4,
 "nbformat_minor": 2
}
