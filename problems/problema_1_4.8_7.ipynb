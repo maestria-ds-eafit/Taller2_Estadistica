{
 "cells": [
  {
   "cell_type": "markdown",
   "metadata": {},
   "source": [
    "# Problema 1 sección 4.8 ejercicio 7"
   ]
  },
  {
   "cell_type": "markdown",
   "metadata": {},
   "source": [
    "Suppose that we wish to predict whether a given stock will issue a dividend this year (“Yes” or “No”) based on X, last year’s percent\n",
    "profit. We examine a large number of companies and discover that the mean value of X for companies that issued a dividend was  ̄X = 10,\n",
    "while the mean for those that didn’t was  ̄X = 0 . In addition, the variance of X for these two sets of companies was ˆσ2 = 36. Finally,\n",
    "80% of companies issued dividends. Assuming that X follows a normal distribution, predict the probability that a company will issue\n",
    "a dividend this year given that its percentage profit was X = 4 last year.\n",
    "\n",
    "Hint: Recall that the density function for a normal random variableis f (x) = 1√2πσ2 e−(x−μ)2/2σ2 . You will need to use Bayes’ theorem."
   ]
  },
  {
   "cell_type": "code",
   "execution_count": 1,
   "metadata": {},
   "outputs": [],
   "source": [
    "import scipy.stats as stats"
   ]
  },
  {
   "cell_type": "code",
   "execution_count": 2,
   "metadata": {},
   "outputs": [],
   "source": [
    "#Definiendo los parametros\n",
    "\n",
    "promedio_yes = 10\n",
    "varianza_yes= 36\n",
    "promedio_no= 0\n",
    "varianza_no = 36\n",
    "prob_yes = 0.8\n",
    "prob_no= 1 - prob_yes\n",
    "x = 4"
   ]
  },
  {
   "cell_type": "code",
   "execution_count": 3,
   "metadata": {},
   "outputs": [
    {
     "ename": "NameError",
     "evalue": "name 'variance_dividend' is not defined",
     "output_type": "error",
     "traceback": [
      "\u001b[0;31m---------------------------------------------------------------------------\u001b[0m",
      "\u001b[0;31mNameError\u001b[0m                                 Traceback (most recent call last)",
      "\u001b[1;32m/home/camilo/Taller2_Estadistica/problems/problema_1_4.8_7.ipynb Cell 5\u001b[0m line \u001b[0;36m1\n\u001b[0;32m----> <a href='vscode-notebook-cell://wsl%2Bubuntu/home/camilo/Taller2_Estadistica/problems/problema_1_4.8_7.ipynb#W4sdnNjb2RlLXJlbW90ZQ%3D%3D?line=0'>1</a>\u001b[0m prob_x_dado_yes \u001b[39m=\u001b[39m stats\u001b[39m.\u001b[39mnorm\u001b[39m.\u001b[39mpdf(x, loc\u001b[39m=\u001b[39mpromedio_yes, scale\u001b[39m=\u001b[39mvariance_dividend\u001b[39m*\u001b[39m\u001b[39m*\u001b[39m\u001b[39m0.5\u001b[39m)\n\u001b[1;32m      <a href='vscode-notebook-cell://wsl%2Bubuntu/home/camilo/Taller2_Estadistica/problems/problema_1_4.8_7.ipynb#W4sdnNjb2RlLXJlbW90ZQ%3D%3D?line=1'>2</a>\u001b[0m prob_x_dado_no \u001b[39m=\u001b[39m stats\u001b[39m.\u001b[39mnorm\u001b[39m.\u001b[39mpdf(x, loc\u001b[39m=\u001b[39mmean_no_dividend, scale\u001b[39m=\u001b[39mvarianza_no\u001b[39m*\u001b[39m\u001b[39m*\u001b[39m\u001b[39m0.5\u001b[39m)\n\u001b[1;32m      <a href='vscode-notebook-cell://wsl%2Bubuntu/home/camilo/Taller2_Estadistica/problems/problema_1_4.8_7.ipynb#W4sdnNjb2RlLXJlbW90ZQ%3D%3D?line=2'>3</a>\u001b[0m prob_margin_x_4 \u001b[39m=\u001b[39m (prob_x_dado_yes \u001b[39m*\u001b[39m prob_yes) \u001b[39m+\u001b[39m (prob_x_dado_no \u001b[39m*\u001b[39m prior_probability_no_dividend)\n",
      "\u001b[0;31mNameError\u001b[0m: name 'variance_dividend' is not defined"
     ]
    }
   ],
   "source": [
    "prob_x_dado_yes = stats.norm.pdf(x, loc=promedio_yes, scale=variance_dividend**0.5)\n",
    "prob_x_dado_no = stats.norm.pdf(x, loc=mean_no_dividend, scale=varianza_no**0.5)\n",
    "prob_margin_x_4 = (prob_x_dado_yes * prob_yes) + (prob_x_dado_no * prior_probability_no_dividend)\n",
    "\n",
    "# calcular la probabilidad condicional P(yes | X = 4) using Bayes' theorem\n",
    "prob_cond_yes_dado_x_4 = (prob_x_dado_yes * prob_yes) / prob_margin_x_4\n",
    "\n",
    "print(f\"la probabilidad de que una compañia de dividendos con X = 4 es: {prob_cond_yes_dado_x_4:.4f}\")"
   ]
  }
 ],
 "metadata": {
  "kernelspec": {
   "display_name": "Taller2_Estadistica-VjdUl4YZ",
   "language": "python",
   "name": "python3"
  },
  "language_info": {
   "codemirror_mode": {
    "name": "ipython",
    "version": 3
   },
   "file_extension": ".py",
   "mimetype": "text/x-python",
   "name": "python",
   "nbconvert_exporter": "python",
   "pygments_lexer": "ipython3",
   "version": "3.11.5"
  }
 },
 "nbformat": 4,
 "nbformat_minor": 2
}
