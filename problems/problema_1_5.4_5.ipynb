{
 "cells": [
  {
   "cell_type": "markdown",
   "metadata": {},
   "source": [
    "# Problema 1 sección 5.4 ejercicio 5"
   ]
  },
  {
   "cell_type": "markdown",
   "metadata": {},
   "source": [
    "5. In Chapter 4, we used logistic regression to predict the probability of\n",
    "default using income and balance on the Default data set. We will\n",
    "now estimate the test error of this logistic regression model using the\n",
    "validation set approach. Do not forget to set a random seed before\n",
    "beginning your analysis."
   ]
  },
  {
   "cell_type": "code",
   "execution_count": 1,
   "metadata": {},
   "outputs": [],
   "source": [
    "import pandas as pd\n",
    "import numpy as np\n",
    "import matplotlib.pyplot as plt\n",
    "from ISLP import load_data\n",
    "import statsmodels.api as sm\n",
    "from sklearn.model_selection import train_test_split\n",
    "from sklearn.metrics import accuracy_score"
   ]
  },
  {
   "cell_type": "code",
   "execution_count": 2,
   "metadata": {},
   "outputs": [
    {
     "name": "stdout",
     "output_type": "stream",
     "text": [
      "(10000, 4)\n"
     ]
    },
    {
     "data": {
      "text/html": [
       "<div>\n",
       "<style scoped>\n",
       "    .dataframe tbody tr th:only-of-type {\n",
       "        vertical-align: middle;\n",
       "    }\n",
       "\n",
       "    .dataframe tbody tr th {\n",
       "        vertical-align: top;\n",
       "    }\n",
       "\n",
       "    .dataframe thead th {\n",
       "        text-align: right;\n",
       "    }\n",
       "</style>\n",
       "<table border=\"1\" class=\"dataframe\">\n",
       "  <thead>\n",
       "    <tr style=\"text-align: right;\">\n",
       "      <th></th>\n",
       "      <th>default</th>\n",
       "      <th>student</th>\n",
       "      <th>balance</th>\n",
       "      <th>income</th>\n",
       "    </tr>\n",
       "  </thead>\n",
       "  <tbody>\n",
       "    <tr>\n",
       "      <th>0</th>\n",
       "      <td>0</td>\n",
       "      <td>0</td>\n",
       "      <td>729.526495</td>\n",
       "      <td>44361.625074</td>\n",
       "    </tr>\n",
       "    <tr>\n",
       "      <th>1</th>\n",
       "      <td>0</td>\n",
       "      <td>1</td>\n",
       "      <td>817.180407</td>\n",
       "      <td>12106.134700</td>\n",
       "    </tr>\n",
       "    <tr>\n",
       "      <th>2</th>\n",
       "      <td>0</td>\n",
       "      <td>0</td>\n",
       "      <td>1073.549164</td>\n",
       "      <td>31767.138947</td>\n",
       "    </tr>\n",
       "    <tr>\n",
       "      <th>3</th>\n",
       "      <td>0</td>\n",
       "      <td>0</td>\n",
       "      <td>529.250605</td>\n",
       "      <td>35704.493935</td>\n",
       "    </tr>\n",
       "    <tr>\n",
       "      <th>4</th>\n",
       "      <td>0</td>\n",
       "      <td>0</td>\n",
       "      <td>785.655883</td>\n",
       "      <td>38463.495879</td>\n",
       "    </tr>\n",
       "  </tbody>\n",
       "</table>\n",
       "</div>"
      ],
      "text/plain": [
       "   default  student      balance        income\n",
       "0        0        0   729.526495  44361.625074\n",
       "1        0        1   817.180407  12106.134700\n",
       "2        0        0  1073.549164  31767.138947\n",
       "3        0        0   529.250605  35704.493935\n",
       "4        0        0   785.655883  38463.495879"
      ]
     },
     "execution_count": 2,
     "metadata": {},
     "output_type": "execute_result"
    }
   ],
   "source": [
    "df=load_data(\"Default\")\n",
    "df[\"default\"]=df[\"default\"].map({\"Yes\":1,\"No\":0})\n",
    "df[\"student\"]=df[\"student\"].map({\"Yes\":1,\"No\":0})\n",
    "print(df.shape)\n",
    "df.head()"
   ]
  },
  {
   "cell_type": "markdown",
   "metadata": {},
   "source": [
    "(a) Fit a logistic regression model that uses `income` and `balance` to\n",
    "predict `default`."
   ]
  },
  {
   "cell_type": "code",
   "execution_count": 3,
   "metadata": {},
   "outputs": [
    {
     "data": {
      "text/html": [
       "<div>\n",
       "<style scoped>\n",
       "    .dataframe tbody tr th:only-of-type {\n",
       "        vertical-align: middle;\n",
       "    }\n",
       "\n",
       "    .dataframe tbody tr th {\n",
       "        vertical-align: top;\n",
       "    }\n",
       "\n",
       "    .dataframe thead th {\n",
       "        text-align: right;\n",
       "    }\n",
       "</style>\n",
       "<table border=\"1\" class=\"dataframe\">\n",
       "  <thead>\n",
       "    <tr style=\"text-align: right;\">\n",
       "      <th></th>\n",
       "      <th>const</th>\n",
       "      <th>balance</th>\n",
       "      <th>income</th>\n",
       "    </tr>\n",
       "  </thead>\n",
       "  <tbody>\n",
       "    <tr>\n",
       "      <th>0</th>\n",
       "      <td>1.0</td>\n",
       "      <td>729.526495</td>\n",
       "      <td>44361.625074</td>\n",
       "    </tr>\n",
       "    <tr>\n",
       "      <th>1</th>\n",
       "      <td>1.0</td>\n",
       "      <td>817.180407</td>\n",
       "      <td>12106.134700</td>\n",
       "    </tr>\n",
       "    <tr>\n",
       "      <th>2</th>\n",
       "      <td>1.0</td>\n",
       "      <td>1073.549164</td>\n",
       "      <td>31767.138947</td>\n",
       "    </tr>\n",
       "    <tr>\n",
       "      <th>3</th>\n",
       "      <td>1.0</td>\n",
       "      <td>529.250605</td>\n",
       "      <td>35704.493935</td>\n",
       "    </tr>\n",
       "    <tr>\n",
       "      <th>4</th>\n",
       "      <td>1.0</td>\n",
       "      <td>785.655883</td>\n",
       "      <td>38463.495879</td>\n",
       "    </tr>\n",
       "  </tbody>\n",
       "</table>\n",
       "</div>"
      ],
      "text/plain": [
       "   const      balance        income\n",
       "0    1.0   729.526495  44361.625074\n",
       "1    1.0   817.180407  12106.134700\n",
       "2    1.0  1073.549164  31767.138947\n",
       "3    1.0   529.250605  35704.493935\n",
       "4    1.0   785.655883  38463.495879"
      ]
     },
     "execution_count": 3,
     "metadata": {},
     "output_type": "execute_result"
    }
   ],
   "source": [
    "# Agregando constante para el intercepto\n",
    "X = sm.add_constant(df[['balance', 'income']])\n",
    "y = df['default']\n",
    "X.head()"
   ]
  },
  {
   "cell_type": "code",
   "execution_count": 4,
   "metadata": {},
   "outputs": [
    {
     "name": "stdout",
     "output_type": "stream",
     "text": [
      "Optimization terminated successfully.\n",
      "         Current function value: 0.078948\n",
      "         Iterations 10\n"
     ]
    },
    {
     "data": {
      "text/html": [
       "<table class=\"simpletable\">\n",
       "<caption>Logit Regression Results</caption>\n",
       "<tr>\n",
       "  <th>Dep. Variable:</th>        <td>default</td>     <th>  No. Observations:  </th>   <td> 10000</td>  \n",
       "</tr>\n",
       "<tr>\n",
       "  <th>Model:</th>                 <td>Logit</td>      <th>  Df Residuals:      </th>   <td>  9997</td>  \n",
       "</tr>\n",
       "<tr>\n",
       "  <th>Method:</th>                 <td>MLE</td>       <th>  Df Model:          </th>   <td>     2</td>  \n",
       "</tr>\n",
       "<tr>\n",
       "  <th>Date:</th>            <td>Tue, 21 Nov 2023</td> <th>  Pseudo R-squ.:     </th>   <td>0.4594</td>  \n",
       "</tr>\n",
       "<tr>\n",
       "  <th>Time:</th>                <td>18:18:13</td>     <th>  Log-Likelihood:    </th>  <td> -789.48</td> \n",
       "</tr>\n",
       "<tr>\n",
       "  <th>converged:</th>             <td>True</td>       <th>  LL-Null:           </th>  <td> -1460.3</td> \n",
       "</tr>\n",
       "<tr>\n",
       "  <th>Covariance Type:</th>     <td>nonrobust</td>    <th>  LLR p-value:       </th> <td>4.541e-292</td>\n",
       "</tr>\n",
       "</table>\n",
       "<table class=\"simpletable\">\n",
       "<tr>\n",
       "     <td></td>        <th>coef</th>     <th>std err</th>      <th>z</th>      <th>P>|z|</th>  <th>[0.025</th>    <th>0.975]</th>  \n",
       "</tr>\n",
       "<tr>\n",
       "  <th>const</th>   <td>  -11.5405</td> <td>    0.435</td> <td>  -26.544</td> <td> 0.000</td> <td>  -12.393</td> <td>  -10.688</td>\n",
       "</tr>\n",
       "<tr>\n",
       "  <th>balance</th> <td>    0.0056</td> <td>    0.000</td> <td>   24.835</td> <td> 0.000</td> <td>    0.005</td> <td>    0.006</td>\n",
       "</tr>\n",
       "<tr>\n",
       "  <th>income</th>  <td> 2.081e-05</td> <td> 4.99e-06</td> <td>    4.174</td> <td> 0.000</td> <td>  1.1e-05</td> <td> 3.06e-05</td>\n",
       "</tr>\n",
       "</table><br/><br/>Possibly complete quasi-separation: A fraction 0.14 of observations can be<br/>perfectly predicted. This might indicate that there is complete<br/>quasi-separation. In this case some parameters will not be identified."
      ],
      "text/latex": [
       "\\begin{center}\n",
       "\\begin{tabular}{lclc}\n",
       "\\toprule\n",
       "\\textbf{Dep. Variable:}   &     default      & \\textbf{  No. Observations:  } &    10000    \\\\\n",
       "\\textbf{Model:}           &      Logit       & \\textbf{  Df Residuals:      } &     9997    \\\\\n",
       "\\textbf{Method:}          &       MLE        & \\textbf{  Df Model:          } &        2    \\\\\n",
       "\\textbf{Date:}            & Tue, 21 Nov 2023 & \\textbf{  Pseudo R-squ.:     } &   0.4594    \\\\\n",
       "\\textbf{Time:}            &     18:18:13     & \\textbf{  Log-Likelihood:    } &   -789.48   \\\\\n",
       "\\textbf{converged:}       &       True       & \\textbf{  LL-Null:           } &   -1460.3   \\\\\n",
       "\\textbf{Covariance Type:} &    nonrobust     & \\textbf{  LLR p-value:       } & 4.541e-292  \\\\\n",
       "\\bottomrule\n",
       "\\end{tabular}\n",
       "\\begin{tabular}{lcccccc}\n",
       "                 & \\textbf{coef} & \\textbf{std err} & \\textbf{z} & \\textbf{P$> |$z$|$} & \\textbf{[0.025} & \\textbf{0.975]}  \\\\\n",
       "\\midrule\n",
       "\\textbf{const}   &     -11.5405  &        0.435     &   -26.544  &         0.000        &      -12.393    &      -10.688     \\\\\n",
       "\\textbf{balance} &       0.0056  &        0.000     &    24.835  &         0.000        &        0.005    &        0.006     \\\\\n",
       "\\textbf{income}  &    2.081e-05  &     4.99e-06     &     4.174  &         0.000        &      1.1e-05    &     3.06e-05     \\\\\n",
       "\\bottomrule\n",
       "\\end{tabular}\n",
       "%\\caption{Logit Regression Results}\n",
       "\\end{center}\n",
       "\n",
       "Possibly complete quasi-separation: A fraction 0.14 of observations can be \\newline\n",
       " perfectly predicted. This might indicate that there is complete \\newline\n",
       " quasi-separation. In this case some parameters will not be identified."
      ],
      "text/plain": [
       "<class 'statsmodels.iolib.summary.Summary'>\n",
       "\"\"\"\n",
       "                           Logit Regression Results                           \n",
       "==============================================================================\n",
       "Dep. Variable:                default   No. Observations:                10000\n",
       "Model:                          Logit   Df Residuals:                     9997\n",
       "Method:                           MLE   Df Model:                            2\n",
       "Date:                Tue, 21 Nov 2023   Pseudo R-squ.:                  0.4594\n",
       "Time:                        18:18:13   Log-Likelihood:                -789.48\n",
       "converged:                       True   LL-Null:                       -1460.3\n",
       "Covariance Type:            nonrobust   LLR p-value:                4.541e-292\n",
       "==============================================================================\n",
       "                 coef    std err          z      P>|z|      [0.025      0.975]\n",
       "------------------------------------------------------------------------------\n",
       "const        -11.5405      0.435    -26.544      0.000     -12.393     -10.688\n",
       "balance        0.0056      0.000     24.835      0.000       0.005       0.006\n",
       "income      2.081e-05   4.99e-06      4.174      0.000     1.1e-05    3.06e-05\n",
       "==============================================================================\n",
       "\n",
       "Possibly complete quasi-separation: A fraction 0.14 of observations can be\n",
       "perfectly predicted. This might indicate that there is complete\n",
       "quasi-separation. In this case some parameters will not be identified.\n",
       "\"\"\""
      ]
     },
     "execution_count": 4,
     "metadata": {},
     "output_type": "execute_result"
    }
   ],
   "source": [
    "# Ajustando modelo de Regresión Logistica\n",
    "model = sm.Logit(y, X).fit()\n",
    "model.summary()"
   ]
  },
  {
   "cell_type": "markdown",
   "metadata": {},
   "source": [
    "(b) Using the validation set approach, estimate the test error of this\n",
    "model. In order to do this, you must perform the following steps:\n",
    "\n",
    "i. Split the sample set into a training set and a validation set.\n",
    "\n",
    "ii. Fit a multiple logistic regression model using only the training observations.\n",
    "\n",
    "iii. Obtain a prediction of default status for each individual in\n",
    "the validation set by computing the posterior probability of\n",
    "default for that individual, and classifying the individual to\n",
    "the default category if the posterior probability is greater\n",
    "than 0.5.\n",
    "\n",
    "iv. Compute the validation set error, which is the fraction of\n",
    "the observations in the validation set that are misclassifed"
   ]
  },
  {
   "cell_type": "code",
   "execution_count": 5,
   "metadata": {},
   "outputs": [
    {
     "name": "stdout",
     "output_type": "stream",
     "text": [
      "Optimization terminated successfully.\n",
      "         Current function value: 0.076230\n",
      "         Iterations 10\n"
     ]
    },
    {
     "data": {
      "text/html": [
       "<table class=\"simpletable\">\n",
       "<caption>Logit Regression Results</caption>\n",
       "<tr>\n",
       "  <th>Dep. Variable:</th>        <td>default</td>     <th>  No. Observations:  </th>   <td>  8000</td>  \n",
       "</tr>\n",
       "<tr>\n",
       "  <th>Model:</th>                 <td>Logit</td>      <th>  Df Residuals:      </th>   <td>  7997</td>  \n",
       "</tr>\n",
       "<tr>\n",
       "  <th>Method:</th>                 <td>MLE</td>       <th>  Df Model:          </th>   <td>     2</td>  \n",
       "</tr>\n",
       "<tr>\n",
       "  <th>Date:</th>            <td>Tue, 21 Nov 2023</td> <th>  Pseudo R-squ.:     </th>   <td>0.4743</td>  \n",
       "</tr>\n",
       "<tr>\n",
       "  <th>Time:</th>                <td>18:18:13</td>     <th>  Log-Likelihood:    </th>  <td> -609.84</td> \n",
       "</tr>\n",
       "<tr>\n",
       "  <th>converged:</th>             <td>True</td>       <th>  LL-Null:           </th>  <td> -1160.2</td> \n",
       "</tr>\n",
       "<tr>\n",
       "  <th>Covariance Type:</th>     <td>nonrobust</td>    <th>  LLR p-value:       </th> <td>9.963e-240</td>\n",
       "</tr>\n",
       "</table>\n",
       "<table class=\"simpletable\">\n",
       "<tr>\n",
       "     <td></td>        <th>coef</th>     <th>std err</th>      <th>z</th>      <th>P>|z|</th>  <th>[0.025</th>    <th>0.975]</th>  \n",
       "</tr>\n",
       "<tr>\n",
       "  <th>const</th>   <td>  -11.8297</td> <td>    0.506</td> <td>  -23.387</td> <td> 0.000</td> <td>  -12.821</td> <td>  -10.838</td>\n",
       "</tr>\n",
       "<tr>\n",
       "  <th>balance</th> <td>    0.0058</td> <td>    0.000</td> <td>   22.038</td> <td> 0.000</td> <td>    0.005</td> <td>    0.006</td>\n",
       "</tr>\n",
       "<tr>\n",
       "  <th>income</th>  <td> 2.075e-05</td> <td> 5.64e-06</td> <td>    3.682</td> <td> 0.000</td> <td> 9.71e-06</td> <td> 3.18e-05</td>\n",
       "</tr>\n",
       "</table><br/><br/>Possibly complete quasi-separation: A fraction 0.16 of observations can be<br/>perfectly predicted. This might indicate that there is complete<br/>quasi-separation. In this case some parameters will not be identified."
      ],
      "text/latex": [
       "\\begin{center}\n",
       "\\begin{tabular}{lclc}\n",
       "\\toprule\n",
       "\\textbf{Dep. Variable:}   &     default      & \\textbf{  No. Observations:  } &     8000    \\\\\n",
       "\\textbf{Model:}           &      Logit       & \\textbf{  Df Residuals:      } &     7997    \\\\\n",
       "\\textbf{Method:}          &       MLE        & \\textbf{  Df Model:          } &        2    \\\\\n",
       "\\textbf{Date:}            & Tue, 21 Nov 2023 & \\textbf{  Pseudo R-squ.:     } &   0.4743    \\\\\n",
       "\\textbf{Time:}            &     18:18:13     & \\textbf{  Log-Likelihood:    } &   -609.84   \\\\\n",
       "\\textbf{converged:}       &       True       & \\textbf{  LL-Null:           } &   -1160.2   \\\\\n",
       "\\textbf{Covariance Type:} &    nonrobust     & \\textbf{  LLR p-value:       } & 9.963e-240  \\\\\n",
       "\\bottomrule\n",
       "\\end{tabular}\n",
       "\\begin{tabular}{lcccccc}\n",
       "                 & \\textbf{coef} & \\textbf{std err} & \\textbf{z} & \\textbf{P$> |$z$|$} & \\textbf{[0.025} & \\textbf{0.975]}  \\\\\n",
       "\\midrule\n",
       "\\textbf{const}   &     -11.8297  &        0.506     &   -23.387  &         0.000        &      -12.821    &      -10.838     \\\\\n",
       "\\textbf{balance} &       0.0058  &        0.000     &    22.038  &         0.000        &        0.005    &        0.006     \\\\\n",
       "\\textbf{income}  &    2.075e-05  &     5.64e-06     &     3.682  &         0.000        &     9.71e-06    &     3.18e-05     \\\\\n",
       "\\bottomrule\n",
       "\\end{tabular}\n",
       "%\\caption{Logit Regression Results}\n",
       "\\end{center}\n",
       "\n",
       "Possibly complete quasi-separation: A fraction 0.16 of observations can be \\newline\n",
       " perfectly predicted. This might indicate that there is complete \\newline\n",
       " quasi-separation. In this case some parameters will not be identified."
      ],
      "text/plain": [
       "<class 'statsmodels.iolib.summary.Summary'>\n",
       "\"\"\"\n",
       "                           Logit Regression Results                           \n",
       "==============================================================================\n",
       "Dep. Variable:                default   No. Observations:                 8000\n",
       "Model:                          Logit   Df Residuals:                     7997\n",
       "Method:                           MLE   Df Model:                            2\n",
       "Date:                Tue, 21 Nov 2023   Pseudo R-squ.:                  0.4743\n",
       "Time:                        18:18:13   Log-Likelihood:                -609.84\n",
       "converged:                       True   LL-Null:                       -1160.2\n",
       "Covariance Type:            nonrobust   LLR p-value:                9.963e-240\n",
       "==============================================================================\n",
       "                 coef    std err          z      P>|z|      [0.025      0.975]\n",
       "------------------------------------------------------------------------------\n",
       "const        -11.8297      0.506    -23.387      0.000     -12.821     -10.838\n",
       "balance        0.0058      0.000     22.038      0.000       0.005       0.006\n",
       "income      2.075e-05   5.64e-06      3.682      0.000    9.71e-06    3.18e-05\n",
       "==============================================================================\n",
       "\n",
       "Possibly complete quasi-separation: A fraction 0.16 of observations can be\n",
       "perfectly predicted. This might indicate that there is complete\n",
       "quasi-separation. In this case some parameters will not be identified.\n",
       "\"\"\""
      ]
     },
     "metadata": {},
     "output_type": "display_data"
    },
    {
     "name": "stdout",
     "output_type": "stream",
     "text": [
      "Validation Set Accuracy: 96.95%\n",
      "Validation Set Error: 3.05%\n"
     ]
    }
   ],
   "source": [
    "# i. Separar la data en training y validation set\n",
    "X_train, X_val, y_train, y_val = train_test_split(X, y, test_size=0.2, random_state=42)\n",
    "\n",
    "# ii. Ajustar el modelo usando el training set\n",
    "model = sm.Logit(y_train, X_train).fit()\n",
    "\n",
    "# iii. Obtener predicción de validation con un umbral de decisión del 0.5\n",
    "y_val_pred_proba = model.predict(X_val)\n",
    "y_val_pred = (y_val_pred_proba > 0.5).astype(int)\n",
    "\n",
    "# iv. Caluclar el e rror en validation set\n",
    "validation_error = (1 - accuracy_score(y_val, y_val_pred))*100\n",
    "\n",
    "# Display the validation set error\n",
    "display(model.summary())\n",
    "\n",
    "print(f'Validation Set Accuracy: {accuracy_score(y_val, y_val_pred)*100:.2f}%')\n",
    "print(f'Validation Set Error: {validation_error:.2f}%')"
   ]
  },
  {
   "cell_type": "markdown",
   "metadata": {},
   "source": [
    "(c) Repeat the process in (b) three times, using three diferent splits\n",
    "of the observations into a training set and a validation set. Comment on the results obtained."
   ]
  },
  {
   "cell_type": "code",
   "execution_count": 6,
   "metadata": {},
   "outputs": [
    {
     "name": "stdout",
     "output_type": "stream",
     "text": [
      "Optimization terminated successfully.\n",
      "         Current function value: 0.077885\n",
      "         Iterations 10\n",
      "\n",
      "Iteration 1: Validation Set Error: 2.90%\n",
      "\n",
      "Optimization terminated successfully.\n",
      "         Current function value: 0.077232\n",
      "         Iterations 10\n",
      "\n",
      "Iteration 2: Validation Set Error: 3.00%\n",
      "\n",
      "Optimization terminated successfully.\n",
      "         Current function value: 0.078456\n",
      "         Iterations 10\n",
      "\n",
      "Iteration 3: Validation Set Error: 2.60%\n",
      "\n"
     ]
    }
   ],
   "source": [
    "random_seed=50\n",
    "\n",
    "# Repetir el proceso 3 veces con diferentes particiones del conjunto de datos\n",
    "for i in range(3):\n",
    "    # i. Separar la data en training y validation set\n",
    "    X_train, X_val, y_train, y_val = train_test_split(X, y, test_size=0.2, random_state=random_seed + i)\n",
    "\n",
    "    # ii. Ajustar el modelo usando el training set\n",
    "    model = sm.Logit(y_train, X_train).fit()\n",
    "\n",
    "    # iii. Obtener predicción de validation con un umbral de decisión del 0.5\n",
    "    y_val_pred_proba = model.predict(X_val)\n",
    "    y_val_pred = (y_val_pred_proba > 0.5).astype(int)\n",
    "\n",
    "    # iv. Caluclar el error en validation set\n",
    "    validation_error_percentage = (1 - accuracy_score(y_val, y_val_pred)) * 100\n",
    "\n",
    "    # Mostrar los resultados de cada iretación\n",
    "    print(f'\\nIteration {i + 1}: Validation Set Error: {validation_error_percentage:.2f}%\\n')"
   ]
  },
  {
   "cell_type": "markdown",
   "metadata": {},
   "source": [
    "Se puede evidenciar que dada la distirbución aleatoria del conjunto de training y validation, en cada repetición, se asignan observaciones diferentes a cada uno de estos conjuntos y, por lo tanto, se obtienen estimaciones del error diferentes."
   ]
  },
  {
   "cell_type": "markdown",
   "metadata": {},
   "source": [
    "(d) Now consider a logistic regression model that predicts the probability of default using income, balance, and a dummy variable\n",
    "for student. Estimate the test error for this model using the validation set approach. Comment on whether or not including a\n",
    "dummy variable for student leads to a reduction in the test error\n",
    "rate."
   ]
  },
  {
   "cell_type": "code",
   "execution_count": 7,
   "metadata": {},
   "outputs": [
    {
     "name": "stdout",
     "output_type": "stream",
     "text": [
      "Optimization terminated successfully.\n",
      "         Current function value: 0.076032\n",
      "         Iterations 10\n"
     ]
    },
    {
     "data": {
      "text/html": [
       "<table class=\"simpletable\">\n",
       "<caption>Logit Regression Results</caption>\n",
       "<tr>\n",
       "  <th>Dep. Variable:</th>        <td>default</td>     <th>  No. Observations:  </th>   <td>  8000</td>  \n",
       "</tr>\n",
       "<tr>\n",
       "  <th>Model:</th>                 <td>Logit</td>      <th>  Df Residuals:      </th>   <td>  7996</td>  \n",
       "</tr>\n",
       "<tr>\n",
       "  <th>Method:</th>                 <td>MLE</td>       <th>  Df Model:          </th>   <td>     3</td>  \n",
       "</tr>\n",
       "<tr>\n",
       "  <th>Date:</th>            <td>Tue, 21 Nov 2023</td> <th>  Pseudo R-squ.:     </th>   <td>0.4757</td>  \n",
       "</tr>\n",
       "<tr>\n",
       "  <th>Time:</th>                <td>18:18:13</td>     <th>  Log-Likelihood:    </th>  <td> -608.26</td> \n",
       "</tr>\n",
       "<tr>\n",
       "  <th>converged:</th>             <td>True</td>       <th>  LL-Null:           </th>  <td> -1160.2</td> \n",
       "</tr>\n",
       "<tr>\n",
       "  <th>Covariance Type:</th>     <td>nonrobust</td>    <th>  LLR p-value:       </th> <td>5.404e-239</td>\n",
       "</tr>\n",
       "</table>\n",
       "<table class=\"simpletable\">\n",
       "<tr>\n",
       "     <td></td>        <th>coef</th>     <th>std err</th>      <th>z</th>      <th>P>|z|</th>  <th>[0.025</th>    <th>0.975]</th>  \n",
       "</tr>\n",
       "<tr>\n",
       "  <th>const</th>   <td>  -11.3117</td> <td>    0.577</td> <td>  -19.614</td> <td> 0.000</td> <td>  -12.442</td> <td>  -10.181</td>\n",
       "</tr>\n",
       "<tr>\n",
       "  <th>balance</th> <td>    0.0059</td> <td>    0.000</td> <td>   21.933</td> <td> 0.000</td> <td>    0.005</td> <td>    0.006</td>\n",
       "</tr>\n",
       "<tr>\n",
       "  <th>income</th>  <td>  7.21e-06</td> <td> 9.46e-06</td> <td>    0.763</td> <td> 0.446</td> <td>-1.13e-05</td> <td> 2.57e-05</td>\n",
       "</tr>\n",
       "<tr>\n",
       "  <th>student</th> <td>   -0.4881</td> <td>    0.273</td> <td>   -1.790</td> <td> 0.074</td> <td>   -1.023</td> <td>    0.046</td>\n",
       "</tr>\n",
       "</table><br/><br/>Possibly complete quasi-separation: A fraction 0.17 of observations can be<br/>perfectly predicted. This might indicate that there is complete<br/>quasi-separation. In this case some parameters will not be identified."
      ],
      "text/latex": [
       "\\begin{center}\n",
       "\\begin{tabular}{lclc}\n",
       "\\toprule\n",
       "\\textbf{Dep. Variable:}   &     default      & \\textbf{  No. Observations:  } &     8000    \\\\\n",
       "\\textbf{Model:}           &      Logit       & \\textbf{  Df Residuals:      } &     7996    \\\\\n",
       "\\textbf{Method:}          &       MLE        & \\textbf{  Df Model:          } &        3    \\\\\n",
       "\\textbf{Date:}            & Tue, 21 Nov 2023 & \\textbf{  Pseudo R-squ.:     } &   0.4757    \\\\\n",
       "\\textbf{Time:}            &     18:18:13     & \\textbf{  Log-Likelihood:    } &   -608.26   \\\\\n",
       "\\textbf{converged:}       &       True       & \\textbf{  LL-Null:           } &   -1160.2   \\\\\n",
       "\\textbf{Covariance Type:} &    nonrobust     & \\textbf{  LLR p-value:       } & 5.404e-239  \\\\\n",
       "\\bottomrule\n",
       "\\end{tabular}\n",
       "\\begin{tabular}{lcccccc}\n",
       "                 & \\textbf{coef} & \\textbf{std err} & \\textbf{z} & \\textbf{P$> |$z$|$} & \\textbf{[0.025} & \\textbf{0.975]}  \\\\\n",
       "\\midrule\n",
       "\\textbf{const}   &     -11.3117  &        0.577     &   -19.614  &         0.000        &      -12.442    &      -10.181     \\\\\n",
       "\\textbf{balance} &       0.0059  &        0.000     &    21.933  &         0.000        &        0.005    &        0.006     \\\\\n",
       "\\textbf{income}  &     7.21e-06  &     9.46e-06     &     0.763  &         0.446        &    -1.13e-05    &     2.57e-05     \\\\\n",
       "\\textbf{student} &      -0.4881  &        0.273     &    -1.790  &         0.074        &       -1.023    &        0.046     \\\\\n",
       "\\bottomrule\n",
       "\\end{tabular}\n",
       "%\\caption{Logit Regression Results}\n",
       "\\end{center}\n",
       "\n",
       "Possibly complete quasi-separation: A fraction 0.17 of observations can be \\newline\n",
       " perfectly predicted. This might indicate that there is complete \\newline\n",
       " quasi-separation. In this case some parameters will not be identified."
      ],
      "text/plain": [
       "<class 'statsmodels.iolib.summary.Summary'>\n",
       "\"\"\"\n",
       "                           Logit Regression Results                           \n",
       "==============================================================================\n",
       "Dep. Variable:                default   No. Observations:                 8000\n",
       "Model:                          Logit   Df Residuals:                     7996\n",
       "Method:                           MLE   Df Model:                            3\n",
       "Date:                Tue, 21 Nov 2023   Pseudo R-squ.:                  0.4757\n",
       "Time:                        18:18:13   Log-Likelihood:                -608.26\n",
       "converged:                       True   LL-Null:                       -1160.2\n",
       "Covariance Type:            nonrobust   LLR p-value:                5.404e-239\n",
       "==============================================================================\n",
       "                 coef    std err          z      P>|z|      [0.025      0.975]\n",
       "------------------------------------------------------------------------------\n",
       "const        -11.3117      0.577    -19.614      0.000     -12.442     -10.181\n",
       "balance        0.0059      0.000     21.933      0.000       0.005       0.006\n",
       "income       7.21e-06   9.46e-06      0.763      0.446   -1.13e-05    2.57e-05\n",
       "student       -0.4881      0.273     -1.790      0.074      -1.023       0.046\n",
       "==============================================================================\n",
       "\n",
       "Possibly complete quasi-separation: A fraction 0.17 of observations can be\n",
       "perfectly predicted. This might indicate that there is complete\n",
       "quasi-separation. In this case some parameters will not be identified.\n",
       "\"\"\""
      ]
     },
     "metadata": {},
     "output_type": "display_data"
    },
    {
     "name": "stdout",
     "output_type": "stream",
     "text": [
      "Validation Set Error: 3.05%\n"
     ]
    }
   ],
   "source": [
    "# Agregando constante al conjuinto de Variables X\n",
    "X = sm.add_constant(df[['balance', 'income', 'student']])\n",
    "y = df['default']\n",
    "\n",
    "# i. Separar la data en training y validation set\n",
    "X_train, X_val, y_train, y_val = train_test_split(X, y, test_size=0.2, random_state=42)\n",
    "\n",
    "# ii. Ajustar el modelo usando el training set\n",
    "model = sm.Logit(y_train, X_train).fit()\n",
    "\n",
    "# iii. Obtener predicción de validation con un umbral de decisión del 0.5\n",
    "y_val_pred_proba = model.predict(X_val)\n",
    "y_val_pred = (y_val_pred_proba > 0.5).astype(int)\n",
    "\n",
    "# iv. Caluclar el error en validation set\n",
    "validation_error_percentage = (1 - accuracy_score(y_val, y_val_pred)) * 100\n",
    "\n",
    "# Mostrar el error sobre el conjunto de validación y los resultados\n",
    "display(model.summary())\n",
    "print(f'Validation Set Error: {validation_error_percentage:.2f}%')"
   ]
  },
  {
   "cell_type": "markdown",
   "metadata": {},
   "source": [
    "En este caso, agregar la variable binaria `student` no tienen ningún efecto sobre la estimación del error sobre el conjunto de validación. Dato que da 3.05% (lo mismo que dió el modelo sin esta variable con el misms `random_state`)"
   ]
  }
 ],
 "metadata": {
  "kernelspec": {
   "display_name": "Taller2_Estadistica-ig-foL4n",
   "language": "python",
   "name": "python3"
  },
  "language_info": {
   "codemirror_mode": {
    "name": "ipython",
    "version": 3
   },
   "file_extension": ".py",
   "mimetype": "text/x-python",
   "name": "python",
   "nbconvert_exporter": "python",
   "pygments_lexer": "ipython3",
   "version": "3.11.5"
  }
 },
 "nbformat": 4,
 "nbformat_minor": 2
}
