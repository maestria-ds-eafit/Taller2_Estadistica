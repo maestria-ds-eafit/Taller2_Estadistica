{
 "cells": [
  {
   "cell_type": "markdown",
   "metadata": {},
   "source": [
    "# Problema 1 sección 4.8 ejercicio 8"
   ]
  },
  {
   "cell_type": "markdown",
   "metadata": {},
   "source": [
    "8. Suppose that we take a data set, divide it into equally-sized training and test sets, and then try out two different classification procedures. First we use logistic regression and get an error rate of 20% on the training data and 30% on the test data. Next we use 1-nearest neigh-bors (i.e. K = 1 ) and get an average error rate (averaged over both test and training data sets) of 18%. Based on these results, which method should we prefer to use for classification of new observations?\n",
    "Why?"
   ]
  },
  {
   "cell_type": "markdown",
   "metadata": {},
   "source": [
    "Con base a la teoría, se podría intuir que un modelo de `K-nearest neigh-bors` (con K=1) no sería la mejor opción para la predicción de nuevos valores, porque esto tiende a sobre ajustar el modelo y causar que la tasa de error disminuya en el conjunto de ***training*** pero que no lo haga en el conjunto de ***test***.\n",
    "\n",
    "Sin embargo, para este escenario, en el que el error es igual para el conjunto de ***training*** y de ***test***. Se concluyó que para clasificar una nueva observación es mejor el modelo `K-nearest neigh-bors` (con K=1) por los siguientes motivos:\n",
    "\n",
    "1. En términos generales, el error promedio es menor que el modelo de `Logistic Regression`. Por lo tanto, sus predicciones fueron más acertadas tanto en el conjunto de ***training*** como en el de ***test***.\n",
    "\n",
    "2. Dado que el error promedio es igual en el conjunto de ***training*** y en el de ***test*** (18% en ambos), se puede concluir que el modelo generalizó bien, y por lo tanto, será más acertado que para predecir nuevas observaciones. Por otra parte, el modelo de `Logistic Regression` tiene un error menor en el conjunto de ***training*** (20%) que en el conjunto de ***test*** (30%), lo que nos indica que el modelo tiene un sobre ajuste con los datos de entrenamiento, y, no generalizó bien, por lo que no sería recomendado para clasificar nuevos datos."
   ]
  }
 ],
 "metadata": {
  "language_info": {
   "name": "python"
  }
 },
 "nbformat": 4,
 "nbformat_minor": 2
}
