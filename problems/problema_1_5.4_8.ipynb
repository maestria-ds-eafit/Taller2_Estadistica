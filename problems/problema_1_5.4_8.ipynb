{
 "cells": [
  {
   "cell_type": "markdown",
   "metadata": {},
   "source": [
    "# Problema 1 sección 5.4 ejercicio 8"
   ]
  },
  {
   "cell_type": "markdown",
   "metadata": {},
   "source": [
    "8. We will now perform cross-validation on a simulated data set.\n",
    "\n",
    "(a) Generate a simulated data set as follows:\n",
    "\n",
    "`rng = np.random.default_rng(1)`\n",
    "\n",
    "`x = rng.normal(size=100)`\n",
    "\n",
    "`y = x - 2 * x**2 + rng.normal(size=100)`\n",
    "\n",
    "In this data set, what is ***n*** and what is ***p***?\n",
    "\n",
    "Write out the model used to generate the data in equation form."
   ]
  },
  {
   "cell_type": "code",
   "execution_count": 48,
   "metadata": {},
   "outputs": [],
   "source": [
    "import numpy as np\n",
    "import matplotlib.pyplot as plt\n",
    "import seaborn as sns\n",
    "import pandas as pd\n",
    "import statsmodels.api as sm\n",
    "from sklearn.model_selection import cross_val_score\n",
    "from sklearn.model_selection import KFold\n",
    "from sklearn.model_selection import LeaveOneOut"
   ]
  },
  {
   "cell_type": "code",
   "execution_count": 2,
   "metadata": {},
   "outputs": [],
   "source": [
    "rng = np.random.default_rng(1)\n",
    "x = rng.normal(size=100)\n",
    "y = x - 2 * x**2 + rng.normal(size=100)"
   ]
  },
  {
   "cell_type": "markdown",
   "metadata": {},
   "source": [
    "***n***: es el número de observaciones, que en este caso es 100"
   ]
  },
  {
   "cell_type": "code",
   "execution_count": 3,
   "metadata": {},
   "outputs": [
    {
     "name": "stdout",
     "output_type": "stream",
     "text": [
      "Número de observaciones (n) de 'x' ^ 'y' =  100\n"
     ]
    }
   ],
   "source": [
    "print(\"Número de observaciones (n) de 'x' ^ 'y' = \", len(x))"
   ]
  },
  {
   "cell_type": "markdown",
   "metadata": {},
   "source": [
    "***p***: Es el número de predictores del modelo, en este contexto `p`= 1 porque solo hay una variable predictora que es `x`.\n",
    "\n",
    "El modelo usado para generar `y`, es una ecuacuión cuadrática que puede ser escrita como:\n",
    "\n",
    "$$y=\\beta_0 + \\beta_1 x + \\beta_2 x^2+ \\varepsilon\n"
   ]
  },
  {
   "cell_type": "markdown",
   "metadata": {},
   "source": [
    "Donde:\n",
    "\n",
    "$$ \\beta_0 = 0 , \\beta_1 = 1, \n",
    " \\beta_2 = -2"
   ]
  },
  {
   "cell_type": "markdown",
   "metadata": {},
   "source": [
    "Por lo tanto, la función se puede escribir como:\n",
    "\n",
    "$$ y= x -2 x^2 + \\varepsilon\n"
   ]
  },
  {
   "cell_type": "markdown",
   "metadata": {},
   "source": [
    "(b) Create a scatterplot of X against Y . Comment on what you fnd."
   ]
  },
  {
   "cell_type": "code",
   "execution_count": 10,
   "metadata": {},
   "outputs": [
    {
     "data": {
      "text/html": [
       "<div>\n",
       "<style scoped>\n",
       "    .dataframe tbody tr th:only-of-type {\n",
       "        vertical-align: middle;\n",
       "    }\n",
       "\n",
       "    .dataframe tbody tr th {\n",
       "        vertical-align: top;\n",
       "    }\n",
       "\n",
       "    .dataframe thead th {\n",
       "        text-align: right;\n",
       "    }\n",
       "</style>\n",
       "<table border=\"1\" class=\"dataframe\">\n",
       "  <thead>\n",
       "    <tr style=\"text-align: right;\">\n",
       "      <th></th>\n",
       "      <th>y</th>\n",
       "      <th>x</th>\n",
       "    </tr>\n",
       "  </thead>\n",
       "  <tbody>\n",
       "    <tr>\n",
       "      <th>0</th>\n",
       "      <td>-0.544554</td>\n",
       "      <td>0.345584</td>\n",
       "    </tr>\n",
       "    <tr>\n",
       "      <th>1</th>\n",
       "      <td>0.333950</td>\n",
       "      <td>0.821618</td>\n",
       "    </tr>\n",
       "    <tr>\n",
       "      <th>2</th>\n",
       "      <td>-0.013532</td>\n",
       "      <td>0.330437</td>\n",
       "    </tr>\n",
       "    <tr>\n",
       "      <th>3</th>\n",
       "      <td>-4.030442</td>\n",
       "      <td>-1.303157</td>\n",
       "    </tr>\n",
       "    <tr>\n",
       "      <th>4</th>\n",
       "      <td>0.484861</td>\n",
       "      <td>0.905356</td>\n",
       "    </tr>\n",
       "  </tbody>\n",
       "</table>\n",
       "</div>"
      ],
      "text/plain": [
       "          y         x\n",
       "0 -0.544554  0.345584\n",
       "1  0.333950  0.821618\n",
       "2 -0.013532  0.330437\n",
       "3 -4.030442 -1.303157\n",
       "4  0.484861  0.905356"
      ]
     },
     "execution_count": 10,
     "metadata": {},
     "output_type": "execute_result"
    }
   ],
   "source": [
    "df=pd.DataFrame({\"y\":y,\"x\":x})\n",
    "df.head()"
   ]
  },
  {
   "cell_type": "code",
   "execution_count": 15,
   "metadata": {},
   "outputs": [
    {
     "data": {
      "image/png": "[encoded data removed]",
      "text/plain": [
       "<Figure size 600x400 with 1 Axes>"
      ]
     },
     "metadata": {},
     "output_type": "display_data"
    }
   ],
   "source": [
    "plt.figure(figsize=(6,4))\n",
    "sns.set_style(\"darkgrid\")\n",
    "fig=plt.scatter(df[\"x\"],df[\"y\"])\n",
    "plt.xlabel(\"X\")\n",
    "plt.ylabel(\"Y\")\n",
    "plt.title(\"Scatterplot de X vs Y\")\n",
    "\n",
    "plt.show()"
   ]
  },
  {
   "cell_type": "markdown",
   "metadata": {},
   "source": [
    "Se puede evidenciar que no existe una relación lineal entre los datos. Por el contrario, existe una relación cuadrática, lo cual tiene sentido con la definición de la función."
   ]
  },
  {
   "cell_type": "markdown",
   "metadata": {},
   "source": [
    "(c) Set a random seed, and then compute the LOOCV errors that result from ftting the following four models using least squares:\n",
    "\n",
    "$$ 1. Y = \\beta_0 + \\beta_1X + \\varepsilon \\\\  2. Y = \\beta_0 + \\beta_1X + \\beta_2X^2+\\varepsilon \\\\ 3. Y = \\beta_0 + \\beta_1X + \\beta_2X^2+\\beta_3X^3+\\varepsilon \\\\ 4. Y = \\beta_0 + \\beta_1X + \\beta_2X^2+\\beta_3X^3+\\beta_4X^4+\\varepsilon"
   ]
  },
  {
   "cell_type": "markdown",
   "metadata": {},
   "source": [
    "#### Implementando el proceso manual"
   ]
  },
  {
   "cell_type": "code",
   "execution_count": 59,
   "metadata": {},
   "outputs": [
    {
     "name": "stdout",
     "output_type": "stream",
     "text": [
      "MSE Model 1: 6.633029839181983\n",
      "MSE Model 2: 1.1229368563419688\n",
      "MSE Model 3: 1.3017965489358871\n",
      "MSE Model 4: 1.3323942694179303\n"
     ]
    }
   ],
   "source": [
    "# Model 1: Y = β0 + β1X + E\n",
    "model_1_formula = 'y ~ x'\n",
    "model_1_errors = []\n",
    "\n",
    "# Model 2: Y = β0 + β1X + β2X2 + E\n",
    "model_2_formula = 'y ~ x + np.power(x, 2)'\n",
    "model_2_errors = []\n",
    "\n",
    "# Model 3: Y = β0 + β1X + β2X2 + β3X3 + E\n",
    "model_3_formula = 'y ~ x + np.power(x, 2) + np.power(x, 3)'\n",
    "model_3_errors = []\n",
    "\n",
    "# Model 4: Y = β0 + β1X + β2X2 + β3X3 + β4X4 + E\n",
    "model_4_formula = 'y ~ x + np.power(x, 2) + np.power(x, 3) + np.power(x, 4)'\n",
    "model_4_errors = []\n",
    "\n",
    "# Set a random seed\n",
    "np.random.seed(42)\n",
    "\n",
    "# Leave-One-Out Cross-Validation\n",
    "for i in range(len(df)):\n",
    "    # Prepare the data for each iteration\n",
    "    train_data = df.drop(index=i)\n",
    "    test_data = df.iloc[i]\n",
    "\n",
    "    # Model i\n",
    "    model_1 = sm.OLS.from_formula(model_1_formula, data=train_data).fit()\n",
    "    model_1_errors.append((test_data['y'] - model_1.predict(test_data)) ** 2)\n",
    "\n",
    "    # Model ii\n",
    "    model_2 = sm.OLS.from_formula(model_2_formula, data=train_data).fit()\n",
    "    model_2_errors.append((test_data['y'] - model_2.predict(test_data)) ** 2)\n",
    "\n",
    "    # Model iii\n",
    "    model_3 = sm.OLS.from_formula(model_3_formula, data=train_data).fit()\n",
    "    model_3_errors.append((test_data['y'] - model_3.predict(test_data)) ** 2)\n",
    "\n",
    "    # Model iv\n",
    "    model_4 = sm.OLS.from_formula(model_4_formula, data=train_data).fit()\n",
    "    model_4_errors.append((test_data['y'] - model_4.predict(test_data)) ** 2)\n",
    "\n",
    "# Calculate Mean Squared Error (MSE) for each model\n",
    "mse_model_1 = np.mean(model_1_errors)\n",
    "mse_model_2 = np.mean(model_2_errors)\n",
    "mse_model_3 = np.mean(model_3_errors)\n",
    "mse_model_4 = np.mean(model_4_errors)\n",
    "\n",
    "print(f'MSE Model 1: {mse_model_1}')\n",
    "print(f'MSE Model 2: {mse_model_2}')\n",
    "print(f'MSE Model 3: {mse_model_3}')\n",
    "print(f'MSE Model 4: {mse_model_4}')"
   ]
  },
  {
   "cell_type": "markdown",
   "metadata": {},
   "source": [
    "#### Implementando el proceso con librería de ScikitLearn"
   ]
  },
  {
   "cell_type": "code",
   "execution_count": 63,
   "metadata": {},
   "outputs": [
    {
     "name": "stdout",
     "output_type": "stream",
     "text": [
      "MSE for model y ~ x: 6.633029839181983\n",
      "MSE for model y ~ x + np.power(x, 2): 1.1229368563419688\n",
      "MSE for model y ~ x + np.power(x, 2) + np.power(x, 3): 1.3017965489358871\n",
      "MSE for model y ~ x + np.power(x, 2) + np.power(x, 3) + np.power(x, 4): 1.3323942694179303\n"
     ]
    }
   ],
   "source": [
    "# Models\n",
    "model_formulas = [\n",
    "    'y ~ x',\n",
    "    'y ~ x + np.power(x, 2)',\n",
    "    'y ~ x + np.power(x, 2) + np.power(x, 3)',\n",
    "    'y ~ x + np.power(x, 2) + np.power(x, 3) + np.power(x, 4)'\n",
    "]\n",
    "\n",
    "# Leave-One-Out Cross-Validation\n",
    "loo = LeaveOneOut()\n",
    "\n",
    "avg_mse_scores=[]\n",
    "\n",
    "for formula in model_formulas:\n",
    "    mse_scores = []\n",
    "    for train_index, test_index in loo.split(df):\n",
    "        train_data, test_data = df.iloc[train_index], df.iloc[test_index]\n",
    "\n",
    "        # Fit the model using statsmodels\n",
    "        model = sm.OLS.from_formula(formula, data=train_data).fit()\n",
    "\n",
    "        # Make predictions on the test set\n",
    "        predictions = model.predict(test_data)\n",
    "\n",
    "        # Calculate mean squared error\n",
    "        mse = np.mean((test_data['y'] - predictions) ** 2)\n",
    "        mse_scores.append(mse)\n",
    "\n",
    "    # Calculate Mean Squared Error (MSE) for each model\n",
    "    avg_mse = np.mean(mse_scores)\n",
    "\n",
    "    # Display the results\n",
    "    print(f'MSE for model {formula}: {avg_mse}')\n",
    "    avg_mse_scores.append(avg_mse)"
   ]
  },
  {
   "cell_type": "code",
   "execution_count": 67,
   "metadata": {},
   "outputs": [
    {
     "data": {
      "text/html": [
       "<div>\n",
       "<style scoped>\n",
       "    .dataframe tbody tr th:only-of-type {\n",
       "        vertical-align: middle;\n",
       "    }\n",
       "\n",
       "    .dataframe tbody tr th {\n",
       "        vertical-align: top;\n",
       "    }\n",
       "\n",
       "    .dataframe thead th {\n",
       "        text-align: right;\n",
       "    }\n",
       "</style>\n",
       "<table border=\"1\" class=\"dataframe\">\n",
       "  <thead>\n",
       "    <tr style=\"text-align: right;\">\n",
       "      <th></th>\n",
       "      <th>Polinomio</th>\n",
       "      <th>MSE_Manual</th>\n",
       "      <th>MSE_SkLearn</th>\n",
       "    </tr>\n",
       "  </thead>\n",
       "  <tbody>\n",
       "    <tr>\n",
       "      <th>0</th>\n",
       "      <td>1</td>\n",
       "      <td>6.633030</td>\n",
       "      <td>6.633030</td>\n",
       "    </tr>\n",
       "    <tr>\n",
       "      <th>1</th>\n",
       "      <td>2</td>\n",
       "      <td>1.122937</td>\n",
       "      <td>1.122937</td>\n",
       "    </tr>\n",
       "    <tr>\n",
       "      <th>2</th>\n",
       "      <td>3</td>\n",
       "      <td>1.301797</td>\n",
       "      <td>1.301797</td>\n",
       "    </tr>\n",
       "    <tr>\n",
       "      <th>3</th>\n",
       "      <td>4</td>\n",
       "      <td>1.332394</td>\n",
       "      <td>1.332394</td>\n",
       "    </tr>\n",
       "  </tbody>\n",
       "</table>\n",
       "</div>"
      ],
      "text/plain": [
       "   Polinomio  MSE_Manual  MSE_SkLearn\n",
       "0          1    6.633030     6.633030\n",
       "1          2    1.122937     1.122937\n",
       "2          3    1.301797     1.301797\n",
       "3          4    1.332394     1.332394"
      ]
     },
     "execution_count": 67,
     "metadata": {},
     "output_type": "execute_result"
    }
   ],
   "source": [
    "df_LOOCV=pd.DataFrame({\"Polinomio\":[1,2,3,4],\n",
    "        \"MSE_Manual\":[mse_model_1,mse_model_2,mse_model_3,mse_model_4],\n",
    "        \"MSE_SkLearn\":avg_mse_scores})\n",
    "\n",
    "df_LOOCV.head()"
   ]
  },
  {
   "cell_type": "code",
   "execution_count": 69,
   "metadata": {},
   "outputs": [
    {
     "data": {
      "image/png": "[encoded data removed]",
      "text/plain": [
       "<Figure size 640x480 with 1 Axes>"
      ]
     },
     "metadata": {},
     "output_type": "display_data"
    }
   ],
   "source": [
    "# Create a line plot\n",
    "fig, ax = plt.subplots()\n",
    "line = ax.plot(df_LOOCV[\"Polinomio\"], df_LOOCV[\"MSE_SkLearn\"], marker='o', color=\"red\")\n",
    "\n",
    "# Add labels to the values\n",
    "for i, txt in enumerate(df_LOOCV[\"MSE_SkLearn\"]):\n",
    "    ax.text(df_LOOCV[\"Polinomio\"][i], df_LOOCV[\"MSE_SkLearn\"][i], f'{txt:.2f}', ha='right', va='bottom')\n",
    "\n",
    "# Adding labels and title\n",
    "plt.xlabel(\"Número de Polinomios\")\n",
    "plt.ylabel(\"MSE\")\n",
    "plt.title(\"MSE vs Número de Polonomios\")\n",
    "plt.show()"
   ]
  },
  {
   "cell_type": "markdown",
   "metadata": {},
   "source": [
    "(d) Repeat (c) using another random seed, and report your results. Are your results the same as what you got in (c)? Why?\n",
    "\n",
    "Dado que en `Leave-One-Out-Cross-Validation`, no se usa una distribución aleatoria, sino que se utiliza cada uno de las observaciones del dataset tanto en validación como en training, la `random seed` no tiene ningún efecto en los resultados."
   ]
  },
  {
   "cell_type": "markdown",
   "metadata": {},
   "source": [
    "(e) Which of the models in (c) had the smallest LOOCV error? Is this what you expected? Explain your answer.\n",
    "\n",
    "El modelo que tiene un menor LOOCV Error es el que usa solo dos polinomios, es decir:\n",
    "\n",
    "$$Y=\\beta_0+\\beta_1X+\\beta_2X^2+\\varepsilon$$\n",
    "\n",
    "Esto tiene sentido, dado que los valores de Y, se generaron utilizando X y X al cuadrado."
   ]
  },
  {
   "cell_type": "markdown",
   "metadata": {},
   "source": [
    "(f) Comment on the statistical signifcance of the coefcient estimates that results from ftting each of the models in (c) using\n",
    "least squares. Do these results agree with the conclusions drawn\n",
    "based on the cross-validation results?"
   ]
  },
  {
   "cell_type": "markdown",
   "metadata": {},
   "source": [
    "#### Evaluación de significancia estadística de los coeficientes\n",
    "\n",
    "Los coeficientes son estadísticamente significativos cuando se rechaza la Hipótesis nula de que sea igual a cero. Esto se hace cuando `p-value`<`alpha`\n",
    "\n",
    "**Modelo1**: \n",
    "\n",
    "A un nivel de significancia estadística del 1%, se rechaza la hipótesis nula para todos los coeficientes y, por lo tanto, todos son estadísticamente significativos."
   ]
  },
  {
   "cell_type": "code",
   "execution_count": 84,
   "metadata": {},
   "outputs": [
    {
     "data": {
      "text/html": [
       "<table class=\"simpletable\">\n",
       "<caption>OLS Regression Results</caption>\n",
       "<tr>\n",
       "  <th>Dep. Variable:</th>            <td>y</td>        <th>  R-squared:         </th> <td>   0.317</td>\n",
       "</tr>\n",
       "<tr>\n",
       "  <th>Model:</th>                   <td>OLS</td>       <th>  Adj. R-squared:    </th> <td>   0.310</td>\n",
       "</tr>\n",
       "<tr>\n",
       "  <th>Method:</th>             <td>Least Squares</td>  <th>  F-statistic:       </th> <td>   45.06</td>\n",
       "</tr>\n",
       "<tr>\n",
       "  <th>Date:</th>             <td>Tue, 14 Nov 2023</td> <th>  Prob (F-statistic):</th> <td>1.29e-09</td>\n",
       "</tr>\n",
       "<tr>\n",
       "  <th>Time:</th>                 <td>11:57:28</td>     <th>  Log-Likelihood:    </th> <td> -229.02</td>\n",
       "</tr>\n",
       "<tr>\n",
       "  <th>No. Observations:</th>      <td>    99</td>      <th>  AIC:               </th> <td>   462.0</td>\n",
       "</tr>\n",
       "<tr>\n",
       "  <th>Df Residuals:</th>          <td>    97</td>      <th>  BIC:               </th> <td>   467.2</td>\n",
       "</tr>\n",
       "<tr>\n",
       "  <th>Df Model:</th>              <td>     1</td>      <th>                     </th>     <td> </td>   \n",
       "</tr>\n",
       "<tr>\n",
       "  <th>Covariance Type:</th>      <td>nonrobust</td>    <th>                     </th>     <td> </td>   \n",
       "</tr>\n",
       "</table>\n",
       "<table class=\"simpletable\">\n",
       "<tr>\n",
       "      <td></td>         <th>coef</th>     <th>std err</th>      <th>t</th>      <th>P>|t|</th>  <th>[0.025</th>    <th>0.975]</th>  \n",
       "</tr>\n",
       "<tr>\n",
       "  <th>Intercept</th> <td>   -1.4635</td> <td>    0.249</td> <td>   -5.869</td> <td> 0.000</td> <td>   -1.958</td> <td>   -0.969</td>\n",
       "</tr>\n",
       "<tr>\n",
       "  <th>x</th>         <td>    1.9501</td> <td>    0.291</td> <td>    6.713</td> <td> 0.000</td> <td>    1.374</td> <td>    2.527</td>\n",
       "</tr>\n",
       "</table>\n",
       "<table class=\"simpletable\">\n",
       "<tr>\n",
       "  <th>Omnibus:</th>       <td>52.008</td> <th>  Durbin-Watson:     </th> <td>   1.972</td>\n",
       "</tr>\n",
       "<tr>\n",
       "  <th>Prob(Omnibus):</th> <td> 0.000</td> <th>  Jarque-Bera (JB):  </th> <td> 144.499</td>\n",
       "</tr>\n",
       "<tr>\n",
       "  <th>Skew:</th>          <td>-1.945</td> <th>  Prob(JB):          </th> <td>4.19e-32</td>\n",
       "</tr>\n",
       "<tr>\n",
       "  <th>Kurtosis:</th>      <td> 7.460</td> <th>  Cond. No.          </th> <td>    1.19</td>\n",
       "</tr>\n",
       "</table><br/><br/>Notes:<br/>[1] Standard Errors assume that the covariance matrix of the errors is correctly specified."
      ],
      "text/latex": [
       "\\begin{center}\n",
       "\\begin{tabular}{lclc}\n",
       "\\toprule\n",
       "\\textbf{Dep. Variable:}    &        y         & \\textbf{  R-squared:         } &     0.317   \\\\\n",
       "\\textbf{Model:}            &       OLS        & \\textbf{  Adj. R-squared:    } &     0.310   \\\\\n",
       "\\textbf{Method:}           &  Least Squares   & \\textbf{  F-statistic:       } &     45.06   \\\\\n",
       "\\textbf{Date:}             & Tue, 14 Nov 2023 & \\textbf{  Prob (F-statistic):} &  1.29e-09   \\\\\n",
       "\\textbf{Time:}             &     11:57:28     & \\textbf{  Log-Likelihood:    } &   -229.02   \\\\\n",
       "\\textbf{No. Observations:} &          99      & \\textbf{  AIC:               } &     462.0   \\\\\n",
       "\\textbf{Df Residuals:}     &          97      & \\textbf{  BIC:               } &     467.2   \\\\\n",
       "\\textbf{Df Model:}         &           1      & \\textbf{                     } &             \\\\\n",
       "\\textbf{Covariance Type:}  &    nonrobust     & \\textbf{                     } &             \\\\\n",
       "\\bottomrule\n",
       "\\end{tabular}\n",
       "\\begin{tabular}{lcccccc}\n",
       "                   & \\textbf{coef} & \\textbf{std err} & \\textbf{t} & \\textbf{P$> |$t$|$} & \\textbf{[0.025} & \\textbf{0.975]}  \\\\\n",
       "\\midrule\n",
       "\\textbf{Intercept} &      -1.4635  &        0.249     &    -5.869  &         0.000        &       -1.958    &       -0.969     \\\\\n",
       "\\textbf{x}         &       1.9501  &        0.291     &     6.713  &         0.000        &        1.374    &        2.527     \\\\\n",
       "\\bottomrule\n",
       "\\end{tabular}\n",
       "\\begin{tabular}{lclc}\n",
       "\\textbf{Omnibus:}       & 52.008 & \\textbf{  Durbin-Watson:     } &    1.972  \\\\\n",
       "\\textbf{Prob(Omnibus):} &  0.000 & \\textbf{  Jarque-Bera (JB):  } &  144.499  \\\\\n",
       "\\textbf{Skew:}          & -1.945 & \\textbf{  Prob(JB):          } & 4.19e-32  \\\\\n",
       "\\textbf{Kurtosis:}      &  7.460 & \\textbf{  Cond. No.          } &     1.19  \\\\\n",
       "\\bottomrule\n",
       "\\end{tabular}\n",
       "%\\caption{OLS Regression Results}\n",
       "\\end{center}\n",
       "\n",
       "Notes: \\newline\n",
       " [1] Standard Errors assume that the covariance matrix of the errors is correctly specified."
      ],
      "text/plain": [
       "<class 'statsmodels.iolib.summary.Summary'>\n",
       "\"\"\"\n",
       "                            OLS Regression Results                            \n",
       "==============================================================================\n",
       "Dep. Variable:                      y   R-squared:                       0.317\n",
       "Model:                            OLS   Adj. R-squared:                  0.310\n",
       "Method:                 Least Squares   F-statistic:                     45.06\n",
       "Date:                Tue, 14 Nov 2023   Prob (F-statistic):           1.29e-09\n",
       "Time:                        11:57:28   Log-Likelihood:                -229.02\n",
       "No. Observations:                  99   AIC:                             462.0\n",
       "Df Residuals:                      97   BIC:                             467.2\n",
       "Df Model:                           1                                         \n",
       "Covariance Type:            nonrobust                                         \n",
       "==============================================================================\n",
       "                 coef    std err          t      P>|t|      [0.025      0.975]\n",
       "------------------------------------------------------------------------------\n",
       "Intercept     -1.4635      0.249     -5.869      0.000      -1.958      -0.969\n",
       "x              1.9501      0.291      6.713      0.000       1.374       2.527\n",
       "==============================================================================\n",
       "Omnibus:                       52.008   Durbin-Watson:                   1.972\n",
       "Prob(Omnibus):                  0.000   Jarque-Bera (JB):              144.499\n",
       "Skew:                          -1.945   Prob(JB):                     4.19e-32\n",
       "Kurtosis:                       7.460   Cond. No.                         1.19\n",
       "==============================================================================\n",
       "\n",
       "Notes:\n",
       "[1] Standard Errors assume that the covariance matrix of the errors is correctly specified.\n",
       "\"\"\""
      ]
     },
     "execution_count": 84,
     "metadata": {},
     "output_type": "execute_result"
    }
   ],
   "source": [
    "model_1.summary()"
   ]
  },
  {
   "cell_type": "markdown",
   "metadata": {},
   "source": [
    "**Modelo2**: \n",
    "\n",
    "A un nivel de significancia estadística del 1%, se rechaza la hipótesis nula para todos los coeficientes a excepción del interpecto y, por lo tanto, `X` y `X**2` son estadísticamente significaivos."
   ]
  },
  {
   "cell_type": "code",
   "execution_count": 86,
   "metadata": {},
   "outputs": [
    {
     "data": {
      "text/html": [
       "<table class=\"simpletable\">\n",
       "<caption>OLS Regression Results</caption>\n",
       "<tr>\n",
       "  <th>Dep. Variable:</th>            <td>y</td>        <th>  R-squared:         </th> <td>   0.888</td>\n",
       "</tr>\n",
       "<tr>\n",
       "  <th>Model:</th>                   <td>OLS</td>       <th>  Adj. R-squared:    </th> <td>   0.885</td>\n",
       "</tr>\n",
       "<tr>\n",
       "  <th>Method:</th>             <td>Least Squares</td>  <th>  F-statistic:       </th> <td>   379.6</td>\n",
       "</tr>\n",
       "<tr>\n",
       "  <th>Date:</th>             <td>Tue, 14 Nov 2023</td> <th>  Prob (F-statistic):</th> <td>2.57e-46</td>\n",
       "</tr>\n",
       "<tr>\n",
       "  <th>Time:</th>                 <td>11:59:55</td>     <th>  Log-Likelihood:    </th> <td> -139.65</td>\n",
       "</tr>\n",
       "<tr>\n",
       "  <th>No. Observations:</th>      <td>    99</td>      <th>  AIC:               </th> <td>   285.3</td>\n",
       "</tr>\n",
       "<tr>\n",
       "  <th>Df Residuals:</th>          <td>    96</td>      <th>  BIC:               </th> <td>   293.1</td>\n",
       "</tr>\n",
       "<tr>\n",
       "  <th>Df Model:</th>              <td>     2</td>      <th>                     </th>     <td> </td>   \n",
       "</tr>\n",
       "<tr>\n",
       "  <th>Covariance Type:</th>      <td>nonrobust</td>    <th>                     </th>     <td> </td>   \n",
       "</tr>\n",
       "</table>\n",
       "<table class=\"simpletable\">\n",
       "<tr>\n",
       "         <td></td>           <th>coef</th>     <th>std err</th>      <th>t</th>      <th>P>|t|</th>  <th>[0.025</th>    <th>0.975]</th>  \n",
       "</tr>\n",
       "<tr>\n",
       "  <th>Intercept</th>      <td>   -0.0600</td> <td>    0.120</td> <td>   -0.501</td> <td> 0.618</td> <td>   -0.298</td> <td>    0.178</td>\n",
       "</tr>\n",
       "<tr>\n",
       "  <th>x</th>              <td>    0.9702</td> <td>    0.126</td> <td>    7.673</td> <td> 0.000</td> <td>    0.719</td> <td>    1.221</td>\n",
       "</tr>\n",
       "<tr>\n",
       "  <th>np.power(x, 2)</th> <td>   -2.0081</td> <td>    0.091</td> <td>  -22.089</td> <td> 0.000</td> <td>   -2.189</td> <td>   -1.828</td>\n",
       "</tr>\n",
       "</table>\n",
       "<table class=\"simpletable\">\n",
       "<tr>\n",
       "  <th>Omnibus:</th>       <td> 1.439</td> <th>  Durbin-Watson:     </th> <td>   2.192</td>\n",
       "</tr>\n",
       "<tr>\n",
       "  <th>Prob(Omnibus):</th> <td> 0.487</td> <th>  Jarque-Bera (JB):  </th> <td>   0.905</td>\n",
       "</tr>\n",
       "<tr>\n",
       "  <th>Skew:</th>          <td> 0.109</td> <th>  Prob(JB):          </th> <td>   0.636</td>\n",
       "</tr>\n",
       "<tr>\n",
       "  <th>Kurtosis:</th>      <td> 3.414</td> <th>  Cond. No.          </th> <td>    2.23</td>\n",
       "</tr>\n",
       "</table><br/><br/>Notes:<br/>[1] Standard Errors assume that the covariance matrix of the errors is correctly specified."
      ],
      "text/latex": [
       "\\begin{center}\n",
       "\\begin{tabular}{lclc}\n",
       "\\toprule\n",
       "\\textbf{Dep. Variable:}    &        y         & \\textbf{  R-squared:         } &     0.888   \\\\\n",
       "\\textbf{Model:}            &       OLS        & \\textbf{  Adj. R-squared:    } &     0.885   \\\\\n",
       "\\textbf{Method:}           &  Least Squares   & \\textbf{  F-statistic:       } &     379.6   \\\\\n",
       "\\textbf{Date:}             & Tue, 14 Nov 2023 & \\textbf{  Prob (F-statistic):} &  2.57e-46   \\\\\n",
       "\\textbf{Time:}             &     11:59:55     & \\textbf{  Log-Likelihood:    } &   -139.65   \\\\\n",
       "\\textbf{No. Observations:} &          99      & \\textbf{  AIC:               } &     285.3   \\\\\n",
       "\\textbf{Df Residuals:}     &          96      & \\textbf{  BIC:               } &     293.1   \\\\\n",
       "\\textbf{Df Model:}         &           2      & \\textbf{                     } &             \\\\\n",
       "\\textbf{Covariance Type:}  &    nonrobust     & \\textbf{                     } &             \\\\\n",
       "\\bottomrule\n",
       "\\end{tabular}\n",
       "\\begin{tabular}{lcccccc}\n",
       "                        & \\textbf{coef} & \\textbf{std err} & \\textbf{t} & \\textbf{P$> |$t$|$} & \\textbf{[0.025} & \\textbf{0.975]}  \\\\\n",
       "\\midrule\n",
       "\\textbf{Intercept}      &      -0.0600  &        0.120     &    -0.501  &         0.618        &       -0.298    &        0.178     \\\\\n",
       "\\textbf{x}              &       0.9702  &        0.126     &     7.673  &         0.000        &        0.719    &        1.221     \\\\\n",
       "\\textbf{np.power(x, 2)} &      -2.0081  &        0.091     &   -22.089  &         0.000        &       -2.189    &       -1.828     \\\\\n",
       "\\bottomrule\n",
       "\\end{tabular}\n",
       "\\begin{tabular}{lclc}\n",
       "\\textbf{Omnibus:}       &  1.439 & \\textbf{  Durbin-Watson:     } &    2.192  \\\\\n",
       "\\textbf{Prob(Omnibus):} &  0.487 & \\textbf{  Jarque-Bera (JB):  } &    0.905  \\\\\n",
       "\\textbf{Skew:}          &  0.109 & \\textbf{  Prob(JB):          } &    0.636  \\\\\n",
       "\\textbf{Kurtosis:}      &  3.414 & \\textbf{  Cond. No.          } &     2.23  \\\\\n",
       "\\bottomrule\n",
       "\\end{tabular}\n",
       "%\\caption{OLS Regression Results}\n",
       "\\end{center}\n",
       "\n",
       "Notes: \\newline\n",
       " [1] Standard Errors assume that the covariance matrix of the errors is correctly specified."
      ],
      "text/plain": [
       "<class 'statsmodels.iolib.summary.Summary'>\n",
       "\"\"\"\n",
       "                            OLS Regression Results                            \n",
       "==============================================================================\n",
       "Dep. Variable:                      y   R-squared:                       0.888\n",
       "Model:                            OLS   Adj. R-squared:                  0.885\n",
       "Method:                 Least Squares   F-statistic:                     379.6\n",
       "Date:                Tue, 14 Nov 2023   Prob (F-statistic):           2.57e-46\n",
       "Time:                        11:59:55   Log-Likelihood:                -139.65\n",
       "No. Observations:                  99   AIC:                             285.3\n",
       "Df Residuals:                      96   BIC:                             293.1\n",
       "Df Model:                           2                                         \n",
       "Covariance Type:            nonrobust                                         \n",
       "==================================================================================\n",
       "                     coef    std err          t      P>|t|      [0.025      0.975]\n",
       "----------------------------------------------------------------------------------\n",
       "Intercept         -0.0600      0.120     -0.501      0.618      -0.298       0.178\n",
       "x                  0.9702      0.126      7.673      0.000       0.719       1.221\n",
       "np.power(x, 2)    -2.0081      0.091    -22.089      0.000      -2.189      -1.828\n",
       "==============================================================================\n",
       "Omnibus:                        1.439   Durbin-Watson:                   2.192\n",
       "Prob(Omnibus):                  0.487   Jarque-Bera (JB):                0.905\n",
       "Skew:                           0.109   Prob(JB):                        0.636\n",
       "Kurtosis:                       3.414   Cond. No.                         2.23\n",
       "==============================================================================\n",
       "\n",
       "Notes:\n",
       "[1] Standard Errors assume that the covariance matrix of the errors is correctly specified.\n",
       "\"\"\""
      ]
     },
     "execution_count": 86,
     "metadata": {},
     "output_type": "execute_result"
    }
   ],
   "source": [
    "model_2.summary()"
   ]
  },
  {
   "cell_type": "markdown",
   "metadata": {},
   "source": [
    "**Modelo3**: \n",
    "\n",
    "A un nivel de significancia estadística del 1%, se rechaza la hipótesis nula para todos los coeficientes a excepción del interpecto y `X**3` y, por lo tanto, `X` y `X**2` son estadísticamente significaivos."
   ]
  },
  {
   "cell_type": "code",
   "execution_count": 87,
   "metadata": {},
   "outputs": [
    {
     "data": {
      "text/html": [
       "<table class=\"simpletable\">\n",
       "<caption>OLS Regression Results</caption>\n",
       "<tr>\n",
       "  <th>Dep. Variable:</th>            <td>y</td>        <th>  R-squared:         </th> <td>   0.889</td>\n",
       "</tr>\n",
       "<tr>\n",
       "  <th>Model:</th>                   <td>OLS</td>       <th>  Adj. R-squared:    </th> <td>   0.886</td>\n",
       "</tr>\n",
       "<tr>\n",
       "  <th>Method:</th>             <td>Least Squares</td>  <th>  F-statistic:       </th> <td>   254.2</td>\n",
       "</tr>\n",
       "<tr>\n",
       "  <th>Date:</th>             <td>Tue, 14 Nov 2023</td> <th>  Prob (F-statistic):</th> <td>3.02e-45</td>\n",
       "</tr>\n",
       "<tr>\n",
       "  <th>Time:</th>                 <td>12:00:11</td>     <th>  Log-Likelihood:    </th> <td> -139.00</td>\n",
       "</tr>\n",
       "<tr>\n",
       "  <th>No. Observations:</th>      <td>    99</td>      <th>  AIC:               </th> <td>   286.0</td>\n",
       "</tr>\n",
       "<tr>\n",
       "  <th>Df Residuals:</th>          <td>    95</td>      <th>  BIC:               </th> <td>   296.4</td>\n",
       "</tr>\n",
       "<tr>\n",
       "  <th>Df Model:</th>              <td>     3</td>      <th>                     </th>     <td> </td>   \n",
       "</tr>\n",
       "<tr>\n",
       "  <th>Covariance Type:</th>      <td>nonrobust</td>    <th>                     </th>     <td> </td>   \n",
       "</tr>\n",
       "</table>\n",
       "<table class=\"simpletable\">\n",
       "<tr>\n",
       "         <td></td>           <th>coef</th>     <th>std err</th>      <th>t</th>      <th>P>|t|</th>  <th>[0.025</th>    <th>0.975]</th>  \n",
       "</tr>\n",
       "<tr>\n",
       "  <th>Intercept</th>      <td>   -0.0429</td> <td>    0.121</td> <td>   -0.355</td> <td> 0.723</td> <td>   -0.282</td> <td>    0.197</td>\n",
       "</tr>\n",
       "<tr>\n",
       "  <th>x</th>              <td>    1.1265</td> <td>    0.188</td> <td>    6.001</td> <td> 0.000</td> <td>    0.754</td> <td>    1.499</td>\n",
       "</tr>\n",
       "<tr>\n",
       "  <th>np.power(x, 2)</th> <td>   -2.0529</td> <td>    0.099</td> <td>  -20.708</td> <td> 0.000</td> <td>   -2.250</td> <td>   -1.856</td>\n",
       "</tr>\n",
       "<tr>\n",
       "  <th>np.power(x, 3)</th> <td>   -0.0677</td> <td>    0.060</td> <td>   -1.125</td> <td> 0.263</td> <td>   -0.187</td> <td>    0.052</td>\n",
       "</tr>\n",
       "</table>\n",
       "<table class=\"simpletable\">\n",
       "<tr>\n",
       "  <th>Omnibus:</th>       <td> 0.944</td> <th>  Durbin-Watson:     </th> <td>   2.191</td>\n",
       "</tr>\n",
       "<tr>\n",
       "  <th>Prob(Omnibus):</th> <td> 0.624</td> <th>  Jarque-Bera (JB):  </th> <td>   0.466</td>\n",
       "</tr>\n",
       "<tr>\n",
       "  <th>Skew:</th>          <td> 0.038</td> <th>  Prob(JB):          </th> <td>   0.792</td>\n",
       "</tr>\n",
       "<tr>\n",
       "  <th>Kurtosis:</th>      <td> 3.327</td> <th>  Cond. No.          </th> <td>    5.96</td>\n",
       "</tr>\n",
       "</table><br/><br/>Notes:<br/>[1] Standard Errors assume that the covariance matrix of the errors is correctly specified."
      ],
      "text/latex": [
       "\\begin{center}\n",
       "\\begin{tabular}{lclc}\n",
       "\\toprule\n",
       "\\textbf{Dep. Variable:}    &        y         & \\textbf{  R-squared:         } &     0.889   \\\\\n",
       "\\textbf{Model:}            &       OLS        & \\textbf{  Adj. R-squared:    } &     0.886   \\\\\n",
       "\\textbf{Method:}           &  Least Squares   & \\textbf{  F-statistic:       } &     254.2   \\\\\n",
       "\\textbf{Date:}             & Tue, 14 Nov 2023 & \\textbf{  Prob (F-statistic):} &  3.02e-45   \\\\\n",
       "\\textbf{Time:}             &     12:00:11     & \\textbf{  Log-Likelihood:    } &   -139.00   \\\\\n",
       "\\textbf{No. Observations:} &          99      & \\textbf{  AIC:               } &     286.0   \\\\\n",
       "\\textbf{Df Residuals:}     &          95      & \\textbf{  BIC:               } &     296.4   \\\\\n",
       "\\textbf{Df Model:}         &           3      & \\textbf{                     } &             \\\\\n",
       "\\textbf{Covariance Type:}  &    nonrobust     & \\textbf{                     } &             \\\\\n",
       "\\bottomrule\n",
       "\\end{tabular}\n",
       "\\begin{tabular}{lcccccc}\n",
       "                        & \\textbf{coef} & \\textbf{std err} & \\textbf{t} & \\textbf{P$> |$t$|$} & \\textbf{[0.025} & \\textbf{0.975]}  \\\\\n",
       "\\midrule\n",
       "\\textbf{Intercept}      &      -0.0429  &        0.121     &    -0.355  &         0.723        &       -0.282    &        0.197     \\\\\n",
       "\\textbf{x}              &       1.1265  &        0.188     &     6.001  &         0.000        &        0.754    &        1.499     \\\\\n",
       "\\textbf{np.power(x, 2)} &      -2.0529  &        0.099     &   -20.708  &         0.000        &       -2.250    &       -1.856     \\\\\n",
       "\\textbf{np.power(x, 3)} &      -0.0677  &        0.060     &    -1.125  &         0.263        &       -0.187    &        0.052     \\\\\n",
       "\\bottomrule\n",
       "\\end{tabular}\n",
       "\\begin{tabular}{lclc}\n",
       "\\textbf{Omnibus:}       &  0.944 & \\textbf{  Durbin-Watson:     } &    2.191  \\\\\n",
       "\\textbf{Prob(Omnibus):} &  0.624 & \\textbf{  Jarque-Bera (JB):  } &    0.466  \\\\\n",
       "\\textbf{Skew:}          &  0.038 & \\textbf{  Prob(JB):          } &    0.792  \\\\\n",
       "\\textbf{Kurtosis:}      &  3.327 & \\textbf{  Cond. No.          } &     5.96  \\\\\n",
       "\\bottomrule\n",
       "\\end{tabular}\n",
       "%\\caption{OLS Regression Results}\n",
       "\\end{center}\n",
       "\n",
       "Notes: \\newline\n",
       " [1] Standard Errors assume that the covariance matrix of the errors is correctly specified."
      ],
      "text/plain": [
       "<class 'statsmodels.iolib.summary.Summary'>\n",
       "\"\"\"\n",
       "                            OLS Regression Results                            \n",
       "==============================================================================\n",
       "Dep. Variable:                      y   R-squared:                       0.889\n",
       "Model:                            OLS   Adj. R-squared:                  0.886\n",
       "Method:                 Least Squares   F-statistic:                     254.2\n",
       "Date:                Tue, 14 Nov 2023   Prob (F-statistic):           3.02e-45\n",
       "Time:                        12:00:11   Log-Likelihood:                -139.00\n",
       "No. Observations:                  99   AIC:                             286.0\n",
       "Df Residuals:                      95   BIC:                             296.4\n",
       "Df Model:                           3                                         \n",
       "Covariance Type:            nonrobust                                         \n",
       "==================================================================================\n",
       "                     coef    std err          t      P>|t|      [0.025      0.975]\n",
       "----------------------------------------------------------------------------------\n",
       "Intercept         -0.0429      0.121     -0.355      0.723      -0.282       0.197\n",
       "x                  1.1265      0.188      6.001      0.000       0.754       1.499\n",
       "np.power(x, 2)    -2.0529      0.099    -20.708      0.000      -2.250      -1.856\n",
       "np.power(x, 3)    -0.0677      0.060     -1.125      0.263      -0.187       0.052\n",
       "==============================================================================\n",
       "Omnibus:                        0.944   Durbin-Watson:                   2.191\n",
       "Prob(Omnibus):                  0.624   Jarque-Bera (JB):                0.466\n",
       "Skew:                           0.038   Prob(JB):                        0.792\n",
       "Kurtosis:                       3.327   Cond. No.                         5.96\n",
       "==============================================================================\n",
       "\n",
       "Notes:\n",
       "[1] Standard Errors assume that the covariance matrix of the errors is correctly specified.\n",
       "\"\"\""
      ]
     },
     "execution_count": 87,
     "metadata": {},
     "output_type": "execute_result"
    }
   ],
   "source": [
    "model_3.summary()"
   ]
  },
  {
   "cell_type": "markdown",
   "metadata": {},
   "source": [
    "**Modelo4**: \n",
    "\n",
    "A un nivel de significancia estadística del 1%, se rechaza la hipótesis nula para todos los coeficientes a excepción del interpecto, `X**3` y `X**4` y, por lo tanto, `X` y `X**2` son estadísticamente significaivos."
   ]
  },
  {
   "cell_type": "code",
   "execution_count": 88,
   "metadata": {},
   "outputs": [
    {
     "data": {
      "text/html": [
       "<table class=\"simpletable\">\n",
       "<caption>OLS Regression Results</caption>\n",
       "<tr>\n",
       "  <th>Dep. Variable:</th>            <td>y</td>        <th>  R-squared:         </th> <td>   0.895</td>\n",
       "</tr>\n",
       "<tr>\n",
       "  <th>Model:</th>                   <td>OLS</td>       <th>  Adj. R-squared:    </th> <td>   0.891</td>\n",
       "</tr>\n",
       "<tr>\n",
       "  <th>Method:</th>             <td>Least Squares</td>  <th>  F-statistic:       </th> <td>   200.9</td>\n",
       "</tr>\n",
       "<tr>\n",
       "  <th>Date:</th>             <td>Tue, 14 Nov 2023</td> <th>  Prob (F-statistic):</th> <td>3.76e-45</td>\n",
       "</tr>\n",
       "<tr>\n",
       "  <th>Time:</th>                 <td>12:00:38</td>     <th>  Log-Likelihood:    </th> <td> -136.21</td>\n",
       "</tr>\n",
       "<tr>\n",
       "  <th>No. Observations:</th>      <td>    99</td>      <th>  AIC:               </th> <td>   282.4</td>\n",
       "</tr>\n",
       "<tr>\n",
       "  <th>Df Residuals:</th>          <td>    94</td>      <th>  BIC:               </th> <td>   295.4</td>\n",
       "</tr>\n",
       "<tr>\n",
       "  <th>Df Model:</th>              <td>     4</td>      <th>                     </th>     <td> </td>   \n",
       "</tr>\n",
       "<tr>\n",
       "  <th>Covariance Type:</th>      <td>nonrobust</td>    <th>                     </th>     <td> </td>   \n",
       "</tr>\n",
       "</table>\n",
       "<table class=\"simpletable\">\n",
       "<tr>\n",
       "         <td></td>           <th>coef</th>     <th>std err</th>      <th>t</th>      <th>P>|t|</th>  <th>[0.025</th>    <th>0.975]</th>  \n",
       "</tr>\n",
       "<tr>\n",
       "  <th>Intercept</th>      <td>    0.1172</td> <td>    0.136</td> <td>    0.859</td> <td> 0.393</td> <td>   -0.154</td> <td>    0.388</td>\n",
       "</tr>\n",
       "<tr>\n",
       "  <th>x</th>              <td>    0.9156</td> <td>    0.205</td> <td>    4.475</td> <td> 0.000</td> <td>    0.509</td> <td>    1.322</td>\n",
       "</tr>\n",
       "<tr>\n",
       "  <th>np.power(x, 2)</th> <td>   -2.5161</td> <td>    0.221</td> <td>  -11.386</td> <td> 0.000</td> <td>   -2.955</td> <td>   -2.077</td>\n",
       "</tr>\n",
       "<tr>\n",
       "  <th>np.power(x, 3)</th> <td>    0.0311</td> <td>    0.072</td> <td>    0.430</td> <td> 0.669</td> <td>   -0.113</td> <td>    0.175</td>\n",
       "</tr>\n",
       "<tr>\n",
       "  <th>np.power(x, 4)</th> <td>    0.1052</td> <td>    0.045</td> <td>    2.332</td> <td> 0.022</td> <td>    0.016</td> <td>    0.195</td>\n",
       "</tr>\n",
       "</table>\n",
       "<table class=\"simpletable\">\n",
       "<tr>\n",
       "  <th>Omnibus:</th>       <td> 2.661</td> <th>  Durbin-Watson:     </th> <td>   2.140</td>\n",
       "</tr>\n",
       "<tr>\n",
       "  <th>Prob(Omnibus):</th> <td> 0.264</td> <th>  Jarque-Bera (JB):  </th> <td>   2.377</td>\n",
       "</tr>\n",
       "<tr>\n",
       "  <th>Skew:</th>          <td> 0.105</td> <th>  Prob(JB):          </th> <td>   0.305</td>\n",
       "</tr>\n",
       "<tr>\n",
       "  <th>Kurtosis:</th>      <td> 3.729</td> <th>  Cond. No.          </th> <td>    19.9</td>\n",
       "</tr>\n",
       "</table><br/><br/>Notes:<br/>[1] Standard Errors assume that the covariance matrix of the errors is correctly specified."
      ],
      "text/latex": [
       "\\begin{center}\n",
       "\\begin{tabular}{lclc}\n",
       "\\toprule\n",
       "\\textbf{Dep. Variable:}    &        y         & \\textbf{  R-squared:         } &     0.895   \\\\\n",
       "\\textbf{Model:}            &       OLS        & \\textbf{  Adj. R-squared:    } &     0.891   \\\\\n",
       "\\textbf{Method:}           &  Least Squares   & \\textbf{  F-statistic:       } &     200.9   \\\\\n",
       "\\textbf{Date:}             & Tue, 14 Nov 2023 & \\textbf{  Prob (F-statistic):} &  3.76e-45   \\\\\n",
       "\\textbf{Time:}             &     12:00:38     & \\textbf{  Log-Likelihood:    } &   -136.21   \\\\\n",
       "\\textbf{No. Observations:} &          99      & \\textbf{  AIC:               } &     282.4   \\\\\n",
       "\\textbf{Df Residuals:}     &          94      & \\textbf{  BIC:               } &     295.4   \\\\\n",
       "\\textbf{Df Model:}         &           4      & \\textbf{                     } &             \\\\\n",
       "\\textbf{Covariance Type:}  &    nonrobust     & \\textbf{                     } &             \\\\\n",
       "\\bottomrule\n",
       "\\end{tabular}\n",
       "\\begin{tabular}{lcccccc}\n",
       "                        & \\textbf{coef} & \\textbf{std err} & \\textbf{t} & \\textbf{P$> |$t$|$} & \\textbf{[0.025} & \\textbf{0.975]}  \\\\\n",
       "\\midrule\n",
       "\\textbf{Intercept}      &       0.1172  &        0.136     &     0.859  &         0.393        &       -0.154    &        0.388     \\\\\n",
       "\\textbf{x}              &       0.9156  &        0.205     &     4.475  &         0.000        &        0.509    &        1.322     \\\\\n",
       "\\textbf{np.power(x, 2)} &      -2.5161  &        0.221     &   -11.386  &         0.000        &       -2.955    &       -2.077     \\\\\n",
       "\\textbf{np.power(x, 3)} &       0.0311  &        0.072     &     0.430  &         0.669        &       -0.113    &        0.175     \\\\\n",
       "\\textbf{np.power(x, 4)} &       0.1052  &        0.045     &     2.332  &         0.022        &        0.016    &        0.195     \\\\\n",
       "\\bottomrule\n",
       "\\end{tabular}\n",
       "\\begin{tabular}{lclc}\n",
       "\\textbf{Omnibus:}       &  2.661 & \\textbf{  Durbin-Watson:     } &    2.140  \\\\\n",
       "\\textbf{Prob(Omnibus):} &  0.264 & \\textbf{  Jarque-Bera (JB):  } &    2.377  \\\\\n",
       "\\textbf{Skew:}          &  0.105 & \\textbf{  Prob(JB):          } &    0.305  \\\\\n",
       "\\textbf{Kurtosis:}      &  3.729 & \\textbf{  Cond. No.          } &     19.9  \\\\\n",
       "\\bottomrule\n",
       "\\end{tabular}\n",
       "%\\caption{OLS Regression Results}\n",
       "\\end{center}\n",
       "\n",
       "Notes: \\newline\n",
       " [1] Standard Errors assume that the covariance matrix of the errors is correctly specified."
      ],
      "text/plain": [
       "<class 'statsmodels.iolib.summary.Summary'>\n",
       "\"\"\"\n",
       "                            OLS Regression Results                            \n",
       "==============================================================================\n",
       "Dep. Variable:                      y   R-squared:                       0.895\n",
       "Model:                            OLS   Adj. R-squared:                  0.891\n",
       "Method:                 Least Squares   F-statistic:                     200.9\n",
       "Date:                Tue, 14 Nov 2023   Prob (F-statistic):           3.76e-45\n",
       "Time:                        12:00:38   Log-Likelihood:                -136.21\n",
       "No. Observations:                  99   AIC:                             282.4\n",
       "Df Residuals:                      94   BIC:                             295.4\n",
       "Df Model:                           4                                         \n",
       "Covariance Type:            nonrobust                                         \n",
       "==================================================================================\n",
       "                     coef    std err          t      P>|t|      [0.025      0.975]\n",
       "----------------------------------------------------------------------------------\n",
       "Intercept          0.1172      0.136      0.859      0.393      -0.154       0.388\n",
       "x                  0.9156      0.205      4.475      0.000       0.509       1.322\n",
       "np.power(x, 2)    -2.5161      0.221    -11.386      0.000      -2.955      -2.077\n",
       "np.power(x, 3)     0.0311      0.072      0.430      0.669      -0.113       0.175\n",
       "np.power(x, 4)     0.1052      0.045      2.332      0.022       0.016       0.195\n",
       "==============================================================================\n",
       "Omnibus:                        2.661   Durbin-Watson:                   2.140\n",
       "Prob(Omnibus):                  0.264   Jarque-Bera (JB):                2.377\n",
       "Skew:                           0.105   Prob(JB):                        0.305\n",
       "Kurtosis:                       3.729   Cond. No.                         19.9\n",
       "==============================================================================\n",
       "\n",
       "Notes:\n",
       "[1] Standard Errors assume that the covariance matrix of the errors is correctly specified.\n",
       "\"\"\""
      ]
     },
     "execution_count": 88,
     "metadata": {},
     "output_type": "execute_result"
    }
   ],
   "source": [
    "model_4.summary()"
   ]
  },
  {
   "cell_type": "markdown",
   "metadata": {},
   "source": [
    "Estas conclusiones están alineadas con lo mencionado en los resultados de Cross-Validation y con la definición de la variable Y. Dado que solo son estadísticamente significativos los coeficientes que componen a Y, y que están en el modelo que tiene el menor error de validación.\n"
   ]
  }
 ],
 "metadata": {
  "kernelspec": {
   "display_name": "Taller2_Estadistica-ig-foL4n",
   "language": "python",
   "name": "python3"
  },
  "language_info": {
   "codemirror_mode": {
    "name": "ipython",
    "version": 3
   },
   "file_extension": ".py",
   "mimetype": "text/x-python",
   "name": "python",
   "nbconvert_exporter": "python",
   "pygments_lexer": "ipython3",
   "version": "3.11.5"
  }
 },
 "nbformat": 4,
 "nbformat_minor": 2
}
