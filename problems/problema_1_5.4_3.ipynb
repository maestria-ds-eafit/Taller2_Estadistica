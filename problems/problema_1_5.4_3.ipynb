{
 "cells": [
  {
   "cell_type": "markdown",
   "metadata": {},
   "source": [
    "# Problema 1 sección 5.4 ejercicio 3"
   ]
  },
  {
   "cell_type": "markdown",
   "metadata": {},
   "source": [
    "3. We now review k-fold cross-validation.\n",
    "\n",
    "\n",
    "(a) Explain how k-fold cross-validation is implemented."
   ]
  },
  {
   "cell_type": "markdown",
   "metadata": {},
   "source": [
    "%% latex\n",
    "\n",
    "La validación cruzada (cross-validation) en k-folds se implementa con los siguientes pasos:\n",
    "\n",
    "1. Se particiona aleatoriamente el conjunto de datos en `k` subconjuntos.\n",
    "\n",
    "2. Para cada uno de los subconjuntos obtenidos se utilizará de ***test*** set para evaluar el modelo con el resto de subconjuntos.\n",
    "\n",
    "3. Se obtiene el promedio del error en las evaluaciones realizadas para obtener el resultado final. Es decir, se calcular al final una métrica de error:\n",
    "\n",
    "**CV(k)** = 1/k \\sum Σ MSE_i"
   ]
  },
  {
   "cell_type": "markdown",
   "metadata": {},
   "source": [
    "(b) What are the advantages and disadvantages of k-fold cross-validation relative to:\n",
    "\n",
    "i. The validation set approach?\n",
    "\n",
    "\n",
    "\n",
    "\n",
    "ii. LOOCV?\n",
    "\n",
    "Respecto a `Leave-one-out-cross-validation`, la ventaja principal, es que `k-fold-cross-validation` es menos costoso computacionalmente, porque no itera el proceso para cada elemento del dataset, sino que lo hace a partir de subconjuntos. La desventaja, es que se pierde detalle al hacer una aproximación por subconjuntos y no por observación individual."
   ]
  },
  {
   "cell_type": "code",
   "execution_count": null,
   "metadata": {},
   "outputs": [],
   "source": [
    "3. We now review k-fold cross-validation.\n",
    "\n",
    "\n",
    "(a) Explain how k-fold cross-validation is implemented.\n",
    "\n",
    "\n",
    "(b) What are the advantages and disadvantages of k-fold cross-\n",
    "validation relative to:\n",
    "i. The validation set approach?\n",
    "ii. LOOCV?"
   ]
  }
 ],
 "metadata": {
  "language_info": {
   "name": "python"
  }
 },
 "nbformat": 4,
 "nbformat_minor": 2
}
