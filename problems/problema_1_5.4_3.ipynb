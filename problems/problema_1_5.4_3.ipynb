{
 "cells": [
  {
   "cell_type": "markdown",
   "metadata": {},
   "source": [
    "# Problema 1 sección 5.4 ejercicio 3"
   ]
  },
  {
   "cell_type": "markdown",
   "metadata": {},
   "source": [
    "We now review k-fold cross-validation.\n",
    "\n",
    "\n",
    "(a) Explain how k-fold cross-validation is implemented."
   ]
  },
  {
   "cell_type": "markdown",
   "metadata": {},
   "source": [
    "La validación cruzada (cross-validation) en k-folds se implementa con los siguientes pasos:\n",
    "\n",
    "1. Se particiona aleatoriamente el conjunto de datos en `k` subconjuntos.\n",
    "\n",
    "2. Se utilizan $k-1$ sunconjuntos para entrenar el modelo y el conjunto restante se utiliza para evaluarlo. Este proceso se repite $k$ veces, de tal forma que cada subconjunto se utiliza una vez para evaluar el modelo.\n",
    "\n",
    "3. Se obtiene el promedio del error en las evaluaciones realizadas para obtener el resultado final. Es decir, se calcula al final una métrica de error ponderada. Por ejemplo, si estamos utilizando el $MSE$, la métrica ponderada sería:\n",
    "\n",
    "$$ CV_k = \\frac{1}{k} \\sum_{i} MSE_i $$"
   ]
  },
  {
   "cell_type": "markdown",
   "metadata": {},
   "source": [
    "(b) What are the advantages and disadvantages of k-fold cross-validation relative to:\n",
    "\n",
    "i. The validation set approach?\n",
    "\n",
    "* Ventajas:\n",
    "  * No se tiene que reducir el tamaño del conjunto de entrenamiento para estimar los parámetros. Esto es importante cuando el conjunto de datos es pequeño.\n",
    "  * Se puede utilizar para seleccionar el mejor modelo entre varios.\n",
    "* Desventajas:\n",
    "  * Se tiene que realizar el entrenamiento $k$ veces, lo que puede ser costoso computacionalmente.\n",
    "\n",
    "ii. LOOCV?\n",
    "\n",
    "* Ventajas:\n",
    "  * Es menos costoso computacionalmente que `LOOCV`.\n",
    "* Desventajas:\n",
    "  * Se pierde detalle al hacer una aproximación por subconjuntos y no por observación individual."
   ]
  }
 ],
 "metadata": {
  "language_info": {
   "name": "python"
  }
 },
 "nbformat": 4,
 "nbformat_minor": 2
}
