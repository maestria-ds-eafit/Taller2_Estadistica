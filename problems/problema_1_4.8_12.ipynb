{
 "cells": [
  {
   "cell_type": "markdown",
   "metadata": {},
   "source": [
    "# Problema 1 sección 4.8 ejercicio 12"
   ]
  },
  {
   "cell_type": "markdown",
   "metadata": {},
   "source": [
    "Suppose that you wish to classify an observation $X \\in R$ into `apples`\n",
    "and `oranges`. You fit a logistic regression model and find that\n",
    "\n",
    "$$\n",
    "\\widehat{\\text{Pr}}(Y=\\text{orange} | X=x) = \\frac{\\exp{(\\hat{\\beta_0} + \\hat{\\beta_1}x)}}{1+\\exp{(\\hat{\\beta_0} + \\hat{\\beta_1}x)}}\n",
    "$$\n",
    "\n",
    "Your friend fits a logistic regression model to the same data using the softmax formulation and finds that\n",
    "\n",
    "$$\n",
    "\\widehat{\\text{Pr}}(Y=\\text{orange} | X=x) = \\frac{\\exp{(\\hat{\\alpha}_{orange0} + \\hat{\\alpha}_{orange1}x)}}{\\exp{(\\hat{\\alpha}_{orange0} + \\hat{\\alpha}_{orange1}x)} + \\exp{(\\hat{\\alpha}_{apple0} + \\hat{\\alpha}_{apple1}x)}}\n",
    "$$"
   ]
  },
  {
   "cell_type": "markdown",
   "metadata": {},
   "source": [
    "(a) What is the log odds of `orange` vs `apple` in your model?"
   ]
  },
  {
   "cell_type": "markdown",
   "metadata": {},
   "source": [
    "Denotemos $p(x) = \\widehat{\\text{Pr}}(Y=\\text{orange} | X=x)$, entonces tenemos que:\n",
    "\n",
    "$$\n",
    "1-p(x) = \\frac{1}{1+\\exp{(\\hat{\\beta_0} + \\hat{\\beta_1}x)}}\n",
    "$$\n",
    "\n",
    "Por lo tanto\n",
    "\n",
    "$$\n",
    "\\frac{p(x)}{1-p(x)} = \\frac{\\frac{\\exp{(\\hat{\\beta_0} + \\hat{\\beta_1}x)}}{1+\\exp{(\\hat{\\beta_0} + \\hat{\\beta_1}x)}}}{\\frac{1}{1+\\exp{(\\hat{\\beta_0} + \\hat{\\beta_1}x)}}} = \\exp{(\\hat{\\beta_0} + \\hat{\\beta_1}x)}\n",
    "$$\n",
    "\n",
    "Entonces los log odds de `orange` vs `apple` sería:\n",
    "\n",
    "$$\n",
    "\\log{\\left( \\frac{p(x)}{1-p(x)} \\right)} = \\hat{\\beta_0} + \\hat{\\beta_1}x\n",
    "$$"
   ]
  },
  {
   "cell_type": "markdown",
   "metadata": {},
   "source": [
    "(b) What is the log odds of `orange` vs `apple` in your friend’s model?"
   ]
  },
  {
   "cell_type": "markdown",
   "metadata": {},
   "source": [
    "Denotemos $p_1(x) = \\widehat{\\text{Pr}}(Y=\\text{orange} | X=x)$ y denotemos \n",
    "\n",
    "$$\n",
    "p_2(x) = \\widehat{\\text{Pr}}(Y=\\text{apple} | X=x) = \\frac{\\exp{(\\hat{\\alpha}_{apple0} + \\hat{\\alpha}_{apple1}x)}}{\\exp{(\\hat{\\alpha}_{orange0} + \\hat{\\alpha}_{orange1}x)} + \\exp{(\\hat{\\alpha}_{apple0} + \\hat{\\alpha}_{apple1}x)}}\n",
    "$$\n",
    "\n",
    "Entonces tenemos que:\n",
    "\n",
    "$$\n",
    "\\frac{p_1(x)}{p_2(x)} = \\frac{\\frac{\\exp{(\\hat{\\alpha}_{orange0} + \\hat{\\alpha}_{orange1}x)}}{\\exp{(\\hat{\\alpha}_{orange0} + \\hat{\\alpha}_{orange1}x)} + \\exp{(\\hat{\\alpha}_{apple0} + \\hat{\\alpha}_{apple1}x)}}}{\\frac{\\exp{(\\hat{\\alpha}_{apple0} + \\hat{\\alpha}_{apple1}x)}}{\\exp{(\\hat{\\alpha}_{orange0} + \\hat{\\alpha}_{orange1}x)} + \\exp{(\\hat{\\alpha}_{apple0} + \\hat{\\alpha}_{apple1}x)}}} = \\frac{\\exp{(\\hat{\\alpha}_{orange0} + \\hat{\\alpha}_{orange1}x)}}{\\exp{(\\hat{\\alpha}_{apple0} + \\hat{\\alpha}_{apple1}x)}}\n",
    "$$\n",
    "\n",
    "Entonces los log odds de `orange` vs `apple` sería:\n",
    "\n",
    "$$\n",
    "\\log{\\left( \\frac{p_1(x)}{p_2(x)} \\right)} = \\log{\\left( \\frac{\\exp{(\\hat{\\alpha}_{orange0} + \\hat{\\alpha}_{orange1}x)}}{\\exp{(\\hat{\\alpha}_{apple0} + \\hat{\\alpha}_{apple1}x)}} \\right)}\\\\\n",
    "\n",
    "= \\log{(\\exp{(\\hat{\\alpha}_{orange0} + \\hat{\\alpha}_{orange1}x)})} - \\log{(\\exp{(\\hat{\\alpha}_{apple0} + \\hat{\\alpha}_{apple1}x)})}\\\\\n",
    "\n",
    "= \\hat{\\alpha}_{orange0} + \\hat{\\alpha}_{orange1}x - \\hat{\\alpha}_{apple0} - \\hat{\\alpha}_{apple1}x\\\\\n",
    "\n",
    "= (\\hat{\\alpha}_{orange0} - \\hat{\\alpha}_{apple0}) + (\\hat{\\alpha}_{orange1} - \\hat{\\alpha}_{apple1})x\n",
    "$$\n"
   ]
  },
  {
   "cell_type": "markdown",
   "metadata": {},
   "source": [
    "(c) Suppose that in your model, $\\hat{\\beta_0} = 2$ and $\\hat{\\beta_1} = −1$. What are\n",
    "the coefficient estimates in your friend’s model? Be as specific\n",
    "as possible"
   ]
  },
  {
   "cell_type": "markdown",
   "metadata": {},
   "source": [
    "Si igualamos los log odds de los dos modelos tenemos que:\n",
    "\n",
    "$$\n",
    "\\hat{\\beta_0} + \\hat{\\beta_1}x = (\\hat{\\alpha}_{orange0} - \\hat{\\alpha}_{apple0}) + (\\hat{\\alpha}_{orange1} - \\hat{\\alpha}_{apple1})x\n",
    "$$\n",
    "\n",
    "Por lo tanto\n",
    "\n",
    "$$\n",
    "\\hat{\\beta_0} = \\hat{\\alpha}_{orange0} - \\hat{\\alpha}_{apple0}\\\\\n",
    "\\hat{\\beta_1} = \\hat{\\alpha}_{orange1} - \\hat{\\alpha}_{apple1}\n",
    "$$\n",
    "\n",
    "Es decir que tenemos un sistema de ecuaciones con 4 incógnitas y 2 ecuaciones. Esto significa que tenemos infinitas soluciones. Para simplificar el problema, podemos decir que $\\hat{\\alpha}_{apple0} = 0$ y $\\hat{\\alpha}_{apple1} = 0$. Esto es equivalente a decir que `apple` será nuestra clase o categoría \"base\" o de referencia. Entonces tenemos que:\n",
    "\n",
    "$$\n",
    "\\hat{\\beta_0} = \\hat{\\alpha}_{orange0} = 2\\\\\n",
    "\\hat{\\beta_1} = \\hat{\\alpha}_{orange1} = -1\n",
    "$$"
   ]
  },
  {
   "cell_type": "markdown",
   "metadata": {},
   "source": [
    "(d) Now suppose that you and your friend fit the same two models\n",
    "on a different data set. This time, your friend gets the coefficient\n",
    "estimates $\\hat{\\alpha}_{orange0} = 1.2$, $\\hat{\\alpha}_{orange1} = -2$, $\\hat{\\alpha}_{apple0} = 3$, $\\hat{\\alpha}_{apple1} = 0.6$. What are the coefficient estimates in your model?"
   ]
  },
  {
   "cell_type": "markdown",
   "metadata": {},
   "source": [
    "En este caso,\n",
    "\n",
    "$$\n",
    "\\hat{\\beta_0} = 1.2 - 3 = -1.8\\\\\n",
    "\\hat{\\beta_1} = -2 - 0.6 = -2.6\n",
    "$$"
   ]
  },
  {
   "cell_type": "markdown",
   "metadata": {},
   "source": [
    "(e) Finally, suppose you apply both models from (d) to a data set\n",
    "with 2,000 test observations. What fraction of the time do you\n",
    "expect the predicted class labels from your model to agree with\n",
    "those from your friend’s model? Explain your answer."
   ]
  },
  {
   "cell_type": "markdown",
   "metadata": {},
   "source": [
    "Debido a que tanto la regresión logística como la regresión multinomial son equivalentes para un problema de clasificación binaria, los class labels predichos por ambos modelos teóricamente deberían coincidir todo el tiempo, siempre y cuando se apliquen al mismo conjunto de datos con los mismos valores de entrada para $X$.\n",
    "\n",
    "Esto es porque los log odds en ambos modelos son iguales y son funciones lineales de $X$. Cuando se aplica la función logística o la función softmax a estos log odds, las probabilidades resultantes que se utilizan para hacer las predicciones de clase serán las mismas.\n",
    "\n",
    "Por lo tanto, si aplicamos ambos modelos a un conjunto de datos de 2,000 observaciones de prueba, esperaríamos que las etiquetas de clase predichas por ambos modelos coincidan en casi todas las 2,000 observaciones, asumiendo que todos los demás factores como el preprocesamiento de datos y el umbral para la clasificación sean consistentes entre los dos modelos."
   ]
  }
 ],
 "metadata": {
  "language_info": {
   "name": "python"
  }
 },
 "nbformat": 4,
 "nbformat_minor": 2
}
